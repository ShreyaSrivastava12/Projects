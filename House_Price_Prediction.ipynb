{
  "nbformat": 4,
  "nbformat_minor": 0,
  "metadata": {
    "colab": {
      "provenance": [],
      "include_colab_link": true
    },
    "kernelspec": {
      "name": "python3",
      "display_name": "Python 3"
    },
    "language_info": {
      "name": "python"
    }
  },
  "cells": [
    {
      "cell_type": "markdown",
      "metadata": {
        "id": "view-in-github",
        "colab_type": "text"
      },
      "source": [
        "<a href=\"https://colab.research.google.com/github/ShreyaSrivastava12/Projects/blob/main/House_Price_Prediction.ipynb\" target=\"_parent\"><img src=\"https://colab.research.google.com/assets/colab-badge.svg\" alt=\"Open In Colab\"/></a>"
      ]
    },
    {
      "cell_type": "code",
      "metadata": {
        "colab": {
          "base_uri": "https://localhost:8080/"
        },
        "id": "-FjxX_5zs7pb",
        "outputId": "3b521cdb-830e-4b4d-dbc7-d9e5f07fd52a"
      },
      "source": [
        "from google.colab import drive\n",
        "drive.mount('/content/drive')"
      ],
      "execution_count": null,
      "outputs": [
        {
          "output_type": "stream",
          "name": "stdout",
          "text": [
            "Mounted at /content/drive\n"
          ]
        }
      ]
    },
    {
      "cell_type": "code",
      "metadata": {
        "colab": {
          "base_uri": "https://localhost:8080/",
          "height": 317
        },
        "id": "M9LaLg-8ww-5",
        "outputId": "5bb1a137-c1f2-4d2e-b715-aee16f210a8a"
      },
      "source": [
        "import pandas as pd #pandas use for data manipulation\n",
        "import numpy as np#its nmerical python\n",
        "import matplotlib.pyplot as plt#for data visulization \n",
        "path=\"/content/drive/MyDrive/Dataset/bangalore house price prediction OHE-data.csv\"\n",
        "data=pd.read_csv(path)\n",
        "data.head()"
      ],
      "execution_count": null,
      "outputs": [
        {
          "output_type": "execute_result",
          "data": {
            "text/plain": [
              "   bath  balcony  price  total_sqft_int  bhk  price_per_sqft  \\\n",
              "0     3      2.0  150.0          1672.0    3     8971.291866   \n",
              "1     3      3.0  149.0          1750.0    3     8514.285714   \n",
              "2     3      2.0  150.0          1750.0    3     8571.428571   \n",
              "3     2      2.0   40.0          1250.0    2     3200.000000   \n",
              "4     2      2.0   83.0          1200.0    2     6916.666667   \n",
              "\n",
              "   area_typeSuper built-up  Area  area_typeBuilt-up  Area  \\\n",
              "0                              1                        0   \n",
              "1                              0                        1   \n",
              "2                              1                        0   \n",
              "3                              1                        0   \n",
              "4                              0                        0   \n",
              "\n",
              "   area_typePlot  Area  availability_Ready To Move  ...  \\\n",
              "0                    0                           1  ...   \n",
              "1                    0                           1  ...   \n",
              "2                    0                           1  ...   \n",
              "3                    0                           1  ...   \n",
              "4                    1                           1  ...   \n",
              "\n",
              "   location_Kalena Agrahara  location_Horamavu Agara  location_Vidyaranyapura  \\\n",
              "0                         0                        0                        0   \n",
              "1                         0                        0                        0   \n",
              "2                         0                        0                        0   \n",
              "3                         0                        0                        0   \n",
              "4                         0                        0                        0   \n",
              "\n",
              "   location_BTM 2nd Stage  location_Hebbal Kempapura  location_Hosur Road  \\\n",
              "0                       0                          0                    0   \n",
              "1                       0                          0                    0   \n",
              "2                       0                          0                    0   \n",
              "3                       0                          0                    0   \n",
              "4                       0                          0                    0   \n",
              "\n",
              "   location_Horamavu Banaswadi  location_Domlur  location_Mahadevpura  \\\n",
              "0                            0                0                     0   \n",
              "1                            0                0                     0   \n",
              "2                            0                0                     0   \n",
              "3                            0                0                     0   \n",
              "4                            0                0                     0   \n",
              "\n",
              "   location_Tumkur Road  \n",
              "0                     0  \n",
              "1                     0  \n",
              "2                     0  \n",
              "3                     0  \n",
              "4                     0  \n",
              "\n",
              "[5 rows x 108 columns]"
            ],
            "text/html": [
              "\n",
              "  <div id=\"df-8c4cc7f6-c1cb-484c-99b6-901cb3233faa\">\n",
              "    <div class=\"colab-df-container\">\n",
              "      <div>\n",
              "<style scoped>\n",
              "    .dataframe tbody tr th:only-of-type {\n",
              "        vertical-align: middle;\n",
              "    }\n",
              "\n",
              "    .dataframe tbody tr th {\n",
              "        vertical-align: top;\n",
              "    }\n",
              "\n",
              "    .dataframe thead th {\n",
              "        text-align: right;\n",
              "    }\n",
              "</style>\n",
              "<table border=\"1\" class=\"dataframe\">\n",
              "  <thead>\n",
              "    <tr style=\"text-align: right;\">\n",
              "      <th></th>\n",
              "      <th>bath</th>\n",
              "      <th>balcony</th>\n",
              "      <th>price</th>\n",
              "      <th>total_sqft_int</th>\n",
              "      <th>bhk</th>\n",
              "      <th>price_per_sqft</th>\n",
              "      <th>area_typeSuper built-up  Area</th>\n",
              "      <th>area_typeBuilt-up  Area</th>\n",
              "      <th>area_typePlot  Area</th>\n",
              "      <th>availability_Ready To Move</th>\n",
              "      <th>...</th>\n",
              "      <th>location_Kalena Agrahara</th>\n",
              "      <th>location_Horamavu Agara</th>\n",
              "      <th>location_Vidyaranyapura</th>\n",
              "      <th>location_BTM 2nd Stage</th>\n",
              "      <th>location_Hebbal Kempapura</th>\n",
              "      <th>location_Hosur Road</th>\n",
              "      <th>location_Horamavu Banaswadi</th>\n",
              "      <th>location_Domlur</th>\n",
              "      <th>location_Mahadevpura</th>\n",
              "      <th>location_Tumkur Road</th>\n",
              "    </tr>\n",
              "  </thead>\n",
              "  <tbody>\n",
              "    <tr>\n",
              "      <th>0</th>\n",
              "      <td>3</td>\n",
              "      <td>2.0</td>\n",
              "      <td>150.0</td>\n",
              "      <td>1672.0</td>\n",
              "      <td>3</td>\n",
              "      <td>8971.291866</td>\n",
              "      <td>1</td>\n",
              "      <td>0</td>\n",
              "      <td>0</td>\n",
              "      <td>1</td>\n",
              "      <td>...</td>\n",
              "      <td>0</td>\n",
              "      <td>0</td>\n",
              "      <td>0</td>\n",
              "      <td>0</td>\n",
              "      <td>0</td>\n",
              "      <td>0</td>\n",
              "      <td>0</td>\n",
              "      <td>0</td>\n",
              "      <td>0</td>\n",
              "      <td>0</td>\n",
              "    </tr>\n",
              "    <tr>\n",
              "      <th>1</th>\n",
              "      <td>3</td>\n",
              "      <td>3.0</td>\n",
              "      <td>149.0</td>\n",
              "      <td>1750.0</td>\n",
              "      <td>3</td>\n",
              "      <td>8514.285714</td>\n",
              "      <td>0</td>\n",
              "      <td>1</td>\n",
              "      <td>0</td>\n",
              "      <td>1</td>\n",
              "      <td>...</td>\n",
              "      <td>0</td>\n",
              "      <td>0</td>\n",
              "      <td>0</td>\n",
              "      <td>0</td>\n",
              "      <td>0</td>\n",
              "      <td>0</td>\n",
              "      <td>0</td>\n",
              "      <td>0</td>\n",
              "      <td>0</td>\n",
              "      <td>0</td>\n",
              "    </tr>\n",
              "    <tr>\n",
              "      <th>2</th>\n",
              "      <td>3</td>\n",
              "      <td>2.0</td>\n",
              "      <td>150.0</td>\n",
              "      <td>1750.0</td>\n",
              "      <td>3</td>\n",
              "      <td>8571.428571</td>\n",
              "      <td>1</td>\n",
              "      <td>0</td>\n",
              "      <td>0</td>\n",
              "      <td>1</td>\n",
              "      <td>...</td>\n",
              "      <td>0</td>\n",
              "      <td>0</td>\n",
              "      <td>0</td>\n",
              "      <td>0</td>\n",
              "      <td>0</td>\n",
              "      <td>0</td>\n",
              "      <td>0</td>\n",
              "      <td>0</td>\n",
              "      <td>0</td>\n",
              "      <td>0</td>\n",
              "    </tr>\n",
              "    <tr>\n",
              "      <th>3</th>\n",
              "      <td>2</td>\n",
              "      <td>2.0</td>\n",
              "      <td>40.0</td>\n",
              "      <td>1250.0</td>\n",
              "      <td>2</td>\n",
              "      <td>3200.000000</td>\n",
              "      <td>1</td>\n",
              "      <td>0</td>\n",
              "      <td>0</td>\n",
              "      <td>1</td>\n",
              "      <td>...</td>\n",
              "      <td>0</td>\n",
              "      <td>0</td>\n",
              "      <td>0</td>\n",
              "      <td>0</td>\n",
              "      <td>0</td>\n",
              "      <td>0</td>\n",
              "      <td>0</td>\n",
              "      <td>0</td>\n",
              "      <td>0</td>\n",
              "      <td>0</td>\n",
              "    </tr>\n",
              "    <tr>\n",
              "      <th>4</th>\n",
              "      <td>2</td>\n",
              "      <td>2.0</td>\n",
              "      <td>83.0</td>\n",
              "      <td>1200.0</td>\n",
              "      <td>2</td>\n",
              "      <td>6916.666667</td>\n",
              "      <td>0</td>\n",
              "      <td>0</td>\n",
              "      <td>1</td>\n",
              "      <td>1</td>\n",
              "      <td>...</td>\n",
              "      <td>0</td>\n",
              "      <td>0</td>\n",
              "      <td>0</td>\n",
              "      <td>0</td>\n",
              "      <td>0</td>\n",
              "      <td>0</td>\n",
              "      <td>0</td>\n",
              "      <td>0</td>\n",
              "      <td>0</td>\n",
              "      <td>0</td>\n",
              "    </tr>\n",
              "  </tbody>\n",
              "</table>\n",
              "<p>5 rows × 108 columns</p>\n",
              "</div>\n",
              "      <button class=\"colab-df-convert\" onclick=\"convertToInteractive('df-8c4cc7f6-c1cb-484c-99b6-901cb3233faa')\"\n",
              "              title=\"Convert this dataframe to an interactive table.\"\n",
              "              style=\"display:none;\">\n",
              "        \n",
              "  <svg xmlns=\"http://www.w3.org/2000/svg\" height=\"24px\"viewBox=\"0 0 24 24\"\n",
              "       width=\"24px\">\n",
              "    <path d=\"M0 0h24v24H0V0z\" fill=\"none\"/>\n",
              "    <path d=\"M18.56 5.44l.94 2.06.94-2.06 2.06-.94-2.06-.94-.94-2.06-.94 2.06-2.06.94zm-11 1L8.5 8.5l.94-2.06 2.06-.94-2.06-.94L8.5 2.5l-.94 2.06-2.06.94zm10 10l.94 2.06.94-2.06 2.06-.94-2.06-.94-.94-2.06-.94 2.06-2.06.94z\"/><path d=\"M17.41 7.96l-1.37-1.37c-.4-.4-.92-.59-1.43-.59-.52 0-1.04.2-1.43.59L10.3 9.45l-7.72 7.72c-.78.78-.78 2.05 0 2.83L4 21.41c.39.39.9.59 1.41.59.51 0 1.02-.2 1.41-.59l7.78-7.78 2.81-2.81c.8-.78.8-2.07 0-2.86zM5.41 20L4 18.59l7.72-7.72 1.47 1.35L5.41 20z\"/>\n",
              "  </svg>\n",
              "      </button>\n",
              "      \n",
              "  <style>\n",
              "    .colab-df-container {\n",
              "      display:flex;\n",
              "      flex-wrap:wrap;\n",
              "      gap: 12px;\n",
              "    }\n",
              "\n",
              "    .colab-df-convert {\n",
              "      background-color: #E8F0FE;\n",
              "      border: none;\n",
              "      border-radius: 50%;\n",
              "      cursor: pointer;\n",
              "      display: none;\n",
              "      fill: #1967D2;\n",
              "      height: 32px;\n",
              "      padding: 0 0 0 0;\n",
              "      width: 32px;\n",
              "    }\n",
              "\n",
              "    .colab-df-convert:hover {\n",
              "      background-color: #E2EBFA;\n",
              "      box-shadow: 0px 1px 2px rgba(60, 64, 67, 0.3), 0px 1px 3px 1px rgba(60, 64, 67, 0.15);\n",
              "      fill: #174EA6;\n",
              "    }\n",
              "\n",
              "    [theme=dark] .colab-df-convert {\n",
              "      background-color: #3B4455;\n",
              "      fill: #D2E3FC;\n",
              "    }\n",
              "\n",
              "    [theme=dark] .colab-df-convert:hover {\n",
              "      background-color: #434B5C;\n",
              "      box-shadow: 0px 1px 3px 1px rgba(0, 0, 0, 0.15);\n",
              "      filter: drop-shadow(0px 1px 2px rgba(0, 0, 0, 0.3));\n",
              "      fill: #FFFFFF;\n",
              "    }\n",
              "  </style>\n",
              "\n",
              "      <script>\n",
              "        const buttonEl =\n",
              "          document.querySelector('#df-8c4cc7f6-c1cb-484c-99b6-901cb3233faa button.colab-df-convert');\n",
              "        buttonEl.style.display =\n",
              "          google.colab.kernel.accessAllowed ? 'block' : 'none';\n",
              "\n",
              "        async function convertToInteractive(key) {\n",
              "          const element = document.querySelector('#df-8c4cc7f6-c1cb-484c-99b6-901cb3233faa');\n",
              "          const dataTable =\n",
              "            await google.colab.kernel.invokeFunction('convertToInteractive',\n",
              "                                                     [key], {});\n",
              "          if (!dataTable) return;\n",
              "\n",
              "          const docLinkHtml = 'Like what you see? Visit the ' +\n",
              "            '<a target=\"_blank\" href=https://colab.research.google.com/notebooks/data_table.ipynb>data table notebook</a>'\n",
              "            + ' to learn more about interactive tables.';\n",
              "          element.innerHTML = '';\n",
              "          dataTable['output_type'] = 'display_data';\n",
              "          await google.colab.output.renderOutput(dataTable, element);\n",
              "          const docLink = document.createElement('div');\n",
              "          docLink.innerHTML = docLinkHtml;\n",
              "          element.appendChild(docLink);\n",
              "        }\n",
              "      </script>\n",
              "    </div>\n",
              "  </div>\n",
              "  "
            ]
          },
          "metadata": {},
          "execution_count": 2
        }
      ]
    },
    {
      "cell_type": "code",
      "metadata": {
        "colab": {
          "base_uri": "https://localhost:8080/",
          "height": 428
        },
        "id": "4nvkzuajxNux",
        "outputId": "a9d6d4f5-6cfa-4e9b-d947-4d7e736b5714"
      },
      "source": [
        "data.describe()"
      ],
      "execution_count": null,
      "outputs": [
        {
          "output_type": "execute_result",
          "data": {
            "text/html": [
              "\n",
              "  <div id=\"df-6ed09c4f-875a-4da0-b6cf-f92f18098f3a\">\n",
              "    <div class=\"colab-df-container\">\n",
              "      <div>\n",
              "<style scoped>\n",
              "    .dataframe tbody tr th:only-of-type {\n",
              "        vertical-align: middle;\n",
              "    }\n",
              "\n",
              "    .dataframe tbody tr th {\n",
              "        vertical-align: top;\n",
              "    }\n",
              "\n",
              "    .dataframe thead th {\n",
              "        text-align: right;\n",
              "    }\n",
              "</style>\n",
              "<table border=\"1\" class=\"dataframe\">\n",
              "  <thead>\n",
              "    <tr style=\"text-align: right;\">\n",
              "      <th></th>\n",
              "      <th>bath</th>\n",
              "      <th>balcony</th>\n",
              "      <th>price</th>\n",
              "      <th>total_sqft_int</th>\n",
              "      <th>bhk</th>\n",
              "      <th>price_per_sqft</th>\n",
              "      <th>area_typeSuper built-up  Area</th>\n",
              "      <th>area_typeBuilt-up  Area</th>\n",
              "      <th>area_typePlot  Area</th>\n",
              "      <th>availability_Ready To Move</th>\n",
              "      <th>location_Whitefield</th>\n",
              "      <th>location_Sarjapur  Road</th>\n",
              "      <th>location_Electronic City</th>\n",
              "      <th>location_Marathahalli</th>\n",
              "      <th>location_Raja Rajeshwari Nagar</th>\n",
              "      <th>location_Haralur Road</th>\n",
              "      <th>location_Hennur Road</th>\n",
              "      <th>location_Bannerghatta Road</th>\n",
              "      <th>location_Uttarahalli</th>\n",
              "      <th>location_Thanisandra</th>\n",
              "      <th>location_Electronic City Phase II</th>\n",
              "      <th>location_Hebbal</th>\n",
              "      <th>location_7th Phase JP Nagar</th>\n",
              "      <th>location_Yelahanka</th>\n",
              "      <th>location_Kanakpura Road</th>\n",
              "      <th>location_KR Puram</th>\n",
              "      <th>location_Sarjapur</th>\n",
              "      <th>location_Rajaji Nagar</th>\n",
              "      <th>location_Kasavanhalli</th>\n",
              "      <th>location_Bellandur</th>\n",
              "      <th>location_Begur Road</th>\n",
              "      <th>location_Banashankari</th>\n",
              "      <th>location_Kothanur</th>\n",
              "      <th>location_Hormavu</th>\n",
              "      <th>location_Harlur</th>\n",
              "      <th>location_Akshaya Nagar</th>\n",
              "      <th>location_Jakkur</th>\n",
              "      <th>location_Electronics City Phase 1</th>\n",
              "      <th>location_Varthur</th>\n",
              "      <th>location_Chandapura</th>\n",
              "      <th>...</th>\n",
              "      <th>location_Green Glen Layout</th>\n",
              "      <th>location_Old Madras Road</th>\n",
              "      <th>location_Rachenahalli</th>\n",
              "      <th>location_Panathur</th>\n",
              "      <th>location_Kudlu Gate</th>\n",
              "      <th>location_Thigalarapalya</th>\n",
              "      <th>location_Ambedkar Nagar</th>\n",
              "      <th>location_Jigani</th>\n",
              "      <th>location_Yelahanka New Town</th>\n",
              "      <th>location_Talaghattapura</th>\n",
              "      <th>location_Mysore Road</th>\n",
              "      <th>location_Kadugodi</th>\n",
              "      <th>location_Frazer Town</th>\n",
              "      <th>location_Dodda Nekkundi</th>\n",
              "      <th>location_Devanahalli</th>\n",
              "      <th>location_Kanakapura</th>\n",
              "      <th>location_Attibele</th>\n",
              "      <th>location_Anekal</th>\n",
              "      <th>location_Lakshminarayana Pura</th>\n",
              "      <th>location_Nagarbhavi</th>\n",
              "      <th>location_Ananth Nagar</th>\n",
              "      <th>location_5th Phase JP Nagar</th>\n",
              "      <th>location_TC Palaya</th>\n",
              "      <th>location_CV Raman Nagar</th>\n",
              "      <th>location_Kengeri Satellite Town</th>\n",
              "      <th>location_Kudlu</th>\n",
              "      <th>location_Jalahalli</th>\n",
              "      <th>location_Subramanyapura</th>\n",
              "      <th>location_Bhoganhalli</th>\n",
              "      <th>location_Doddathoguru</th>\n",
              "      <th>location_Kalena Agrahara</th>\n",
              "      <th>location_Horamavu Agara</th>\n",
              "      <th>location_Vidyaranyapura</th>\n",
              "      <th>location_BTM 2nd Stage</th>\n",
              "      <th>location_Hebbal Kempapura</th>\n",
              "      <th>location_Hosur Road</th>\n",
              "      <th>location_Horamavu Banaswadi</th>\n",
              "      <th>location_Domlur</th>\n",
              "      <th>location_Mahadevpura</th>\n",
              "      <th>location_Tumkur Road</th>\n",
              "    </tr>\n",
              "  </thead>\n",
              "  <tbody>\n",
              "    <tr>\n",
              "      <th>count</th>\n",
              "      <td>7120.000000</td>\n",
              "      <td>7120.000000</td>\n",
              "      <td>7120.000000</td>\n",
              "      <td>7120.000000</td>\n",
              "      <td>7120.000000</td>\n",
              "      <td>7120.000000</td>\n",
              "      <td>7120.000000</td>\n",
              "      <td>7120.000000</td>\n",
              "      <td>7120.000000</td>\n",
              "      <td>7120.000000</td>\n",
              "      <td>7120.000000</td>\n",
              "      <td>7120.000000</td>\n",
              "      <td>7120.000000</td>\n",
              "      <td>7120.000000</td>\n",
              "      <td>7120.000000</td>\n",
              "      <td>7120.000000</td>\n",
              "      <td>7120.000000</td>\n",
              "      <td>7120.000000</td>\n",
              "      <td>7120.000000</td>\n",
              "      <td>7120.000000</td>\n",
              "      <td>7120.00000</td>\n",
              "      <td>7120.000000</td>\n",
              "      <td>7120.000000</td>\n",
              "      <td>7120.000000</td>\n",
              "      <td>7120.000000</td>\n",
              "      <td>7120.000000</td>\n",
              "      <td>7120.000000</td>\n",
              "      <td>7120.000000</td>\n",
              "      <td>7120.000000</td>\n",
              "      <td>7120.000000</td>\n",
              "      <td>7120.000000</td>\n",
              "      <td>7120.000000</td>\n",
              "      <td>7120.000000</td>\n",
              "      <td>7120.000000</td>\n",
              "      <td>7120.000000</td>\n",
              "      <td>7120.000000</td>\n",
              "      <td>7120.000000</td>\n",
              "      <td>7120.000000</td>\n",
              "      <td>7120.000000</td>\n",
              "      <td>7120.000000</td>\n",
              "      <td>...</td>\n",
              "      <td>7120.000000</td>\n",
              "      <td>7120.000000</td>\n",
              "      <td>7120.000000</td>\n",
              "      <td>7120.000000</td>\n",
              "      <td>7120.000000</td>\n",
              "      <td>7120.000000</td>\n",
              "      <td>7120.000000</td>\n",
              "      <td>7120.000000</td>\n",
              "      <td>7120.000000</td>\n",
              "      <td>7120.000000</td>\n",
              "      <td>7120.000000</td>\n",
              "      <td>7120.000000</td>\n",
              "      <td>7120.000000</td>\n",
              "      <td>7120.000000</td>\n",
              "      <td>7120.000000</td>\n",
              "      <td>7120.000000</td>\n",
              "      <td>7120.000000</td>\n",
              "      <td>7120.000000</td>\n",
              "      <td>7120.000000</td>\n",
              "      <td>7120.000000</td>\n",
              "      <td>7120.000000</td>\n",
              "      <td>7120.000000</td>\n",
              "      <td>7120.000000</td>\n",
              "      <td>7120.000000</td>\n",
              "      <td>7120.000000</td>\n",
              "      <td>7120.000000</td>\n",
              "      <td>7120.000000</td>\n",
              "      <td>7120.000000</td>\n",
              "      <td>7120.000000</td>\n",
              "      <td>7120.000000</td>\n",
              "      <td>7120.000000</td>\n",
              "      <td>7120.000000</td>\n",
              "      <td>7120.000000</td>\n",
              "      <td>7120.000000</td>\n",
              "      <td>7120.000000</td>\n",
              "      <td>7120.000000</td>\n",
              "      <td>7120.000000</td>\n",
              "      <td>7120.000000</td>\n",
              "      <td>7120.000000</td>\n",
              "      <td>7120.000000</td>\n",
              "    </tr>\n",
              "    <tr>\n",
              "      <th>mean</th>\n",
              "      <td>2.390871</td>\n",
              "      <td>1.572759</td>\n",
              "      <td>96.454991</td>\n",
              "      <td>1479.729806</td>\n",
              "      <td>2.465169</td>\n",
              "      <td>5923.806855</td>\n",
              "      <td>0.750702</td>\n",
              "      <td>0.182303</td>\n",
              "      <td>0.061938</td>\n",
              "      <td>0.792697</td>\n",
              "      <td>0.032865</td>\n",
              "      <td>0.025702</td>\n",
              "      <td>0.022191</td>\n",
              "      <td>0.016292</td>\n",
              "      <td>0.016292</td>\n",
              "      <td>0.016292</td>\n",
              "      <td>0.015169</td>\n",
              "      <td>0.015169</td>\n",
              "      <td>0.014888</td>\n",
              "      <td>0.014466</td>\n",
              "      <td>0.01250</td>\n",
              "      <td>0.012219</td>\n",
              "      <td>0.012079</td>\n",
              "      <td>0.012079</td>\n",
              "      <td>0.011938</td>\n",
              "      <td>0.008567</td>\n",
              "      <td>0.007865</td>\n",
              "      <td>0.007725</td>\n",
              "      <td>0.007444</td>\n",
              "      <td>0.007444</td>\n",
              "      <td>0.007163</td>\n",
              "      <td>0.006882</td>\n",
              "      <td>0.006882</td>\n",
              "      <td>0.006601</td>\n",
              "      <td>0.006180</td>\n",
              "      <td>0.006039</td>\n",
              "      <td>0.005899</td>\n",
              "      <td>0.005899</td>\n",
              "      <td>0.005758</td>\n",
              "      <td>0.005478</td>\n",
              "      <td>...</td>\n",
              "      <td>0.003933</td>\n",
              "      <td>0.003792</td>\n",
              "      <td>0.003792</td>\n",
              "      <td>0.003792</td>\n",
              "      <td>0.003792</td>\n",
              "      <td>0.003652</td>\n",
              "      <td>0.003652</td>\n",
              "      <td>0.003652</td>\n",
              "      <td>0.003652</td>\n",
              "      <td>0.003652</td>\n",
              "      <td>0.003652</td>\n",
              "      <td>0.003652</td>\n",
              "      <td>0.003511</td>\n",
              "      <td>0.003511</td>\n",
              "      <td>0.003511</td>\n",
              "      <td>0.003511</td>\n",
              "      <td>0.003511</td>\n",
              "      <td>0.003371</td>\n",
              "      <td>0.003371</td>\n",
              "      <td>0.003371</td>\n",
              "      <td>0.003371</td>\n",
              "      <td>0.003371</td>\n",
              "      <td>0.003371</td>\n",
              "      <td>0.003230</td>\n",
              "      <td>0.003230</td>\n",
              "      <td>0.003230</td>\n",
              "      <td>0.003230</td>\n",
              "      <td>0.003090</td>\n",
              "      <td>0.003090</td>\n",
              "      <td>0.003090</td>\n",
              "      <td>0.003090</td>\n",
              "      <td>0.003090</td>\n",
              "      <td>0.002949</td>\n",
              "      <td>0.002949</td>\n",
              "      <td>0.002949</td>\n",
              "      <td>0.002949</td>\n",
              "      <td>0.002809</td>\n",
              "      <td>0.002809</td>\n",
              "      <td>0.002809</td>\n",
              "      <td>0.002809</td>\n",
              "    </tr>\n",
              "    <tr>\n",
              "      <th>std</th>\n",
              "      <td>0.876822</td>\n",
              "      <td>0.770583</td>\n",
              "      <td>116.185034</td>\n",
              "      <td>913.779769</td>\n",
              "      <td>0.841520</td>\n",
              "      <td>2556.650935</td>\n",
              "      <td>0.432637</td>\n",
              "      <td>0.386121</td>\n",
              "      <td>0.241060</td>\n",
              "      <td>0.405403</td>\n",
              "      <td>0.178296</td>\n",
              "      <td>0.158257</td>\n",
              "      <td>0.147315</td>\n",
              "      <td>0.126605</td>\n",
              "      <td>0.126605</td>\n",
              "      <td>0.126605</td>\n",
              "      <td>0.122232</td>\n",
              "      <td>0.122232</td>\n",
              "      <td>0.121112</td>\n",
              "      <td>0.119411</td>\n",
              "      <td>0.11111</td>\n",
              "      <td>0.109870</td>\n",
              "      <td>0.109245</td>\n",
              "      <td>0.109245</td>\n",
              "      <td>0.108616</td>\n",
              "      <td>0.092169</td>\n",
              "      <td>0.088343</td>\n",
              "      <td>0.087556</td>\n",
              "      <td>0.085962</td>\n",
              "      <td>0.085962</td>\n",
              "      <td>0.084336</td>\n",
              "      <td>0.082678</td>\n",
              "      <td>0.082678</td>\n",
              "      <td>0.080984</td>\n",
              "      <td>0.078374</td>\n",
              "      <td>0.077484</td>\n",
              "      <td>0.076583</td>\n",
              "      <td>0.076583</td>\n",
              "      <td>0.075671</td>\n",
              "      <td>0.073813</td>\n",
              "      <td>...</td>\n",
              "      <td>0.062591</td>\n",
              "      <td>0.061468</td>\n",
              "      <td>0.061468</td>\n",
              "      <td>0.061468</td>\n",
              "      <td>0.061468</td>\n",
              "      <td>0.060323</td>\n",
              "      <td>0.060323</td>\n",
              "      <td>0.060323</td>\n",
              "      <td>0.060323</td>\n",
              "      <td>0.060323</td>\n",
              "      <td>0.060323</td>\n",
              "      <td>0.060323</td>\n",
              "      <td>0.059156</td>\n",
              "      <td>0.059156</td>\n",
              "      <td>0.059156</td>\n",
              "      <td>0.059156</td>\n",
              "      <td>0.059156</td>\n",
              "      <td>0.057965</td>\n",
              "      <td>0.057965</td>\n",
              "      <td>0.057965</td>\n",
              "      <td>0.057965</td>\n",
              "      <td>0.057965</td>\n",
              "      <td>0.057965</td>\n",
              "      <td>0.056748</td>\n",
              "      <td>0.056748</td>\n",
              "      <td>0.056748</td>\n",
              "      <td>0.056748</td>\n",
              "      <td>0.055505</td>\n",
              "      <td>0.055505</td>\n",
              "      <td>0.055505</td>\n",
              "      <td>0.055505</td>\n",
              "      <td>0.055505</td>\n",
              "      <td>0.054232</td>\n",
              "      <td>0.054232</td>\n",
              "      <td>0.054232</td>\n",
              "      <td>0.054232</td>\n",
              "      <td>0.052929</td>\n",
              "      <td>0.052929</td>\n",
              "      <td>0.052929</td>\n",
              "      <td>0.052929</td>\n",
              "    </tr>\n",
              "    <tr>\n",
              "      <th>min</th>\n",
              "      <td>1.000000</td>\n",
              "      <td>0.000000</td>\n",
              "      <td>10.000000</td>\n",
              "      <td>350.000000</td>\n",
              "      <td>1.000000</td>\n",
              "      <td>1250.000000</td>\n",
              "      <td>0.000000</td>\n",
              "      <td>0.000000</td>\n",
              "      <td>0.000000</td>\n",
              "      <td>0.000000</td>\n",
              "      <td>0.000000</td>\n",
              "      <td>0.000000</td>\n",
              "      <td>0.000000</td>\n",
              "      <td>0.000000</td>\n",
              "      <td>0.000000</td>\n",
              "      <td>0.000000</td>\n",
              "      <td>0.000000</td>\n",
              "      <td>0.000000</td>\n",
              "      <td>0.000000</td>\n",
              "      <td>0.000000</td>\n",
              "      <td>0.00000</td>\n",
              "      <td>0.000000</td>\n",
              "      <td>0.000000</td>\n",
              "      <td>0.000000</td>\n",
              "      <td>0.000000</td>\n",
              "      <td>0.000000</td>\n",
              "      <td>0.000000</td>\n",
              "      <td>0.000000</td>\n",
              "      <td>0.000000</td>\n",
              "      <td>0.000000</td>\n",
              "      <td>0.000000</td>\n",
              "      <td>0.000000</td>\n",
              "      <td>0.000000</td>\n",
              "      <td>0.000000</td>\n",
              "      <td>0.000000</td>\n",
              "      <td>0.000000</td>\n",
              "      <td>0.000000</td>\n",
              "      <td>0.000000</td>\n",
              "      <td>0.000000</td>\n",
              "      <td>0.000000</td>\n",
              "      <td>...</td>\n",
              "      <td>0.000000</td>\n",
              "      <td>0.000000</td>\n",
              "      <td>0.000000</td>\n",
              "      <td>0.000000</td>\n",
              "      <td>0.000000</td>\n",
              "      <td>0.000000</td>\n",
              "      <td>0.000000</td>\n",
              "      <td>0.000000</td>\n",
              "      <td>0.000000</td>\n",
              "      <td>0.000000</td>\n",
              "      <td>0.000000</td>\n",
              "      <td>0.000000</td>\n",
              "      <td>0.000000</td>\n",
              "      <td>0.000000</td>\n",
              "      <td>0.000000</td>\n",
              "      <td>0.000000</td>\n",
              "      <td>0.000000</td>\n",
              "      <td>0.000000</td>\n",
              "      <td>0.000000</td>\n",
              "      <td>0.000000</td>\n",
              "      <td>0.000000</td>\n",
              "      <td>0.000000</td>\n",
              "      <td>0.000000</td>\n",
              "      <td>0.000000</td>\n",
              "      <td>0.000000</td>\n",
              "      <td>0.000000</td>\n",
              "      <td>0.000000</td>\n",
              "      <td>0.000000</td>\n",
              "      <td>0.000000</td>\n",
              "      <td>0.000000</td>\n",
              "      <td>0.000000</td>\n",
              "      <td>0.000000</td>\n",
              "      <td>0.000000</td>\n",
              "      <td>0.000000</td>\n",
              "      <td>0.000000</td>\n",
              "      <td>0.000000</td>\n",
              "      <td>0.000000</td>\n",
              "      <td>0.000000</td>\n",
              "      <td>0.000000</td>\n",
              "      <td>0.000000</td>\n",
              "    </tr>\n",
              "    <tr>\n",
              "      <th>25%</th>\n",
              "      <td>2.000000</td>\n",
              "      <td>1.000000</td>\n",
              "      <td>49.230000</td>\n",
              "      <td>1100.000000</td>\n",
              "      <td>2.000000</td>\n",
              "      <td>4416.761042</td>\n",
              "      <td>1.000000</td>\n",
              "      <td>0.000000</td>\n",
              "      <td>0.000000</td>\n",
              "      <td>1.000000</td>\n",
              "      <td>0.000000</td>\n",
              "      <td>0.000000</td>\n",
              "      <td>0.000000</td>\n",
              "      <td>0.000000</td>\n",
              "      <td>0.000000</td>\n",
              "      <td>0.000000</td>\n",
              "      <td>0.000000</td>\n",
              "      <td>0.000000</td>\n",
              "      <td>0.000000</td>\n",
              "      <td>0.000000</td>\n",
              "      <td>0.00000</td>\n",
              "      <td>0.000000</td>\n",
              "      <td>0.000000</td>\n",
              "      <td>0.000000</td>\n",
              "      <td>0.000000</td>\n",
              "      <td>0.000000</td>\n",
              "      <td>0.000000</td>\n",
              "      <td>0.000000</td>\n",
              "      <td>0.000000</td>\n",
              "      <td>0.000000</td>\n",
              "      <td>0.000000</td>\n",
              "      <td>0.000000</td>\n",
              "      <td>0.000000</td>\n",
              "      <td>0.000000</td>\n",
              "      <td>0.000000</td>\n",
              "      <td>0.000000</td>\n",
              "      <td>0.000000</td>\n",
              "      <td>0.000000</td>\n",
              "      <td>0.000000</td>\n",
              "      <td>0.000000</td>\n",
              "      <td>...</td>\n",
              "      <td>0.000000</td>\n",
              "      <td>0.000000</td>\n",
              "      <td>0.000000</td>\n",
              "      <td>0.000000</td>\n",
              "      <td>0.000000</td>\n",
              "      <td>0.000000</td>\n",
              "      <td>0.000000</td>\n",
              "      <td>0.000000</td>\n",
              "      <td>0.000000</td>\n",
              "      <td>0.000000</td>\n",
              "      <td>0.000000</td>\n",
              "      <td>0.000000</td>\n",
              "      <td>0.000000</td>\n",
              "      <td>0.000000</td>\n",
              "      <td>0.000000</td>\n",
              "      <td>0.000000</td>\n",
              "      <td>0.000000</td>\n",
              "      <td>0.000000</td>\n",
              "      <td>0.000000</td>\n",
              "      <td>0.000000</td>\n",
              "      <td>0.000000</td>\n",
              "      <td>0.000000</td>\n",
              "      <td>0.000000</td>\n",
              "      <td>0.000000</td>\n",
              "      <td>0.000000</td>\n",
              "      <td>0.000000</td>\n",
              "      <td>0.000000</td>\n",
              "      <td>0.000000</td>\n",
              "      <td>0.000000</td>\n",
              "      <td>0.000000</td>\n",
              "      <td>0.000000</td>\n",
              "      <td>0.000000</td>\n",
              "      <td>0.000000</td>\n",
              "      <td>0.000000</td>\n",
              "      <td>0.000000</td>\n",
              "      <td>0.000000</td>\n",
              "      <td>0.000000</td>\n",
              "      <td>0.000000</td>\n",
              "      <td>0.000000</td>\n",
              "      <td>0.000000</td>\n",
              "    </tr>\n",
              "    <tr>\n",
              "      <th>50%</th>\n",
              "      <td>2.000000</td>\n",
              "      <td>2.000000</td>\n",
              "      <td>69.000000</td>\n",
              "      <td>1255.000000</td>\n",
              "      <td>2.000000</td>\n",
              "      <td>5417.855612</td>\n",
              "      <td>1.000000</td>\n",
              "      <td>0.000000</td>\n",
              "      <td>0.000000</td>\n",
              "      <td>1.000000</td>\n",
              "      <td>0.000000</td>\n",
              "      <td>0.000000</td>\n",
              "      <td>0.000000</td>\n",
              "      <td>0.000000</td>\n",
              "      <td>0.000000</td>\n",
              "      <td>0.000000</td>\n",
              "      <td>0.000000</td>\n",
              "      <td>0.000000</td>\n",
              "      <td>0.000000</td>\n",
              "      <td>0.000000</td>\n",
              "      <td>0.00000</td>\n",
              "      <td>0.000000</td>\n",
              "      <td>0.000000</td>\n",
              "      <td>0.000000</td>\n",
              "      <td>0.000000</td>\n",
              "      <td>0.000000</td>\n",
              "      <td>0.000000</td>\n",
              "      <td>0.000000</td>\n",
              "      <td>0.000000</td>\n",
              "      <td>0.000000</td>\n",
              "      <td>0.000000</td>\n",
              "      <td>0.000000</td>\n",
              "      <td>0.000000</td>\n",
              "      <td>0.000000</td>\n",
              "      <td>0.000000</td>\n",
              "      <td>0.000000</td>\n",
              "      <td>0.000000</td>\n",
              "      <td>0.000000</td>\n",
              "      <td>0.000000</td>\n",
              "      <td>0.000000</td>\n",
              "      <td>...</td>\n",
              "      <td>0.000000</td>\n",
              "      <td>0.000000</td>\n",
              "      <td>0.000000</td>\n",
              "      <td>0.000000</td>\n",
              "      <td>0.000000</td>\n",
              "      <td>0.000000</td>\n",
              "      <td>0.000000</td>\n",
              "      <td>0.000000</td>\n",
              "      <td>0.000000</td>\n",
              "      <td>0.000000</td>\n",
              "      <td>0.000000</td>\n",
              "      <td>0.000000</td>\n",
              "      <td>0.000000</td>\n",
              "      <td>0.000000</td>\n",
              "      <td>0.000000</td>\n",
              "      <td>0.000000</td>\n",
              "      <td>0.000000</td>\n",
              "      <td>0.000000</td>\n",
              "      <td>0.000000</td>\n",
              "      <td>0.000000</td>\n",
              "      <td>0.000000</td>\n",
              "      <td>0.000000</td>\n",
              "      <td>0.000000</td>\n",
              "      <td>0.000000</td>\n",
              "      <td>0.000000</td>\n",
              "      <td>0.000000</td>\n",
              "      <td>0.000000</td>\n",
              "      <td>0.000000</td>\n",
              "      <td>0.000000</td>\n",
              "      <td>0.000000</td>\n",
              "      <td>0.000000</td>\n",
              "      <td>0.000000</td>\n",
              "      <td>0.000000</td>\n",
              "      <td>0.000000</td>\n",
              "      <td>0.000000</td>\n",
              "      <td>0.000000</td>\n",
              "      <td>0.000000</td>\n",
              "      <td>0.000000</td>\n",
              "      <td>0.000000</td>\n",
              "      <td>0.000000</td>\n",
              "    </tr>\n",
              "    <tr>\n",
              "      <th>75%</th>\n",
              "      <td>3.000000</td>\n",
              "      <td>2.000000</td>\n",
              "      <td>104.000000</td>\n",
              "      <td>1640.250000</td>\n",
              "      <td>3.000000</td>\n",
              "      <td>6618.285651</td>\n",
              "      <td>1.000000</td>\n",
              "      <td>0.000000</td>\n",
              "      <td>0.000000</td>\n",
              "      <td>1.000000</td>\n",
              "      <td>0.000000</td>\n",
              "      <td>0.000000</td>\n",
              "      <td>0.000000</td>\n",
              "      <td>0.000000</td>\n",
              "      <td>0.000000</td>\n",
              "      <td>0.000000</td>\n",
              "      <td>0.000000</td>\n",
              "      <td>0.000000</td>\n",
              "      <td>0.000000</td>\n",
              "      <td>0.000000</td>\n",
              "      <td>0.00000</td>\n",
              "      <td>0.000000</td>\n",
              "      <td>0.000000</td>\n",
              "      <td>0.000000</td>\n",
              "      <td>0.000000</td>\n",
              "      <td>0.000000</td>\n",
              "      <td>0.000000</td>\n",
              "      <td>0.000000</td>\n",
              "      <td>0.000000</td>\n",
              "      <td>0.000000</td>\n",
              "      <td>0.000000</td>\n",
              "      <td>0.000000</td>\n",
              "      <td>0.000000</td>\n",
              "      <td>0.000000</td>\n",
              "      <td>0.000000</td>\n",
              "      <td>0.000000</td>\n",
              "      <td>0.000000</td>\n",
              "      <td>0.000000</td>\n",
              "      <td>0.000000</td>\n",
              "      <td>0.000000</td>\n",
              "      <td>...</td>\n",
              "      <td>0.000000</td>\n",
              "      <td>0.000000</td>\n",
              "      <td>0.000000</td>\n",
              "      <td>0.000000</td>\n",
              "      <td>0.000000</td>\n",
              "      <td>0.000000</td>\n",
              "      <td>0.000000</td>\n",
              "      <td>0.000000</td>\n",
              "      <td>0.000000</td>\n",
              "      <td>0.000000</td>\n",
              "      <td>0.000000</td>\n",
              "      <td>0.000000</td>\n",
              "      <td>0.000000</td>\n",
              "      <td>0.000000</td>\n",
              "      <td>0.000000</td>\n",
              "      <td>0.000000</td>\n",
              "      <td>0.000000</td>\n",
              "      <td>0.000000</td>\n",
              "      <td>0.000000</td>\n",
              "      <td>0.000000</td>\n",
              "      <td>0.000000</td>\n",
              "      <td>0.000000</td>\n",
              "      <td>0.000000</td>\n",
              "      <td>0.000000</td>\n",
              "      <td>0.000000</td>\n",
              "      <td>0.000000</td>\n",
              "      <td>0.000000</td>\n",
              "      <td>0.000000</td>\n",
              "      <td>0.000000</td>\n",
              "      <td>0.000000</td>\n",
              "      <td>0.000000</td>\n",
              "      <td>0.000000</td>\n",
              "      <td>0.000000</td>\n",
              "      <td>0.000000</td>\n",
              "      <td>0.000000</td>\n",
              "      <td>0.000000</td>\n",
              "      <td>0.000000</td>\n",
              "      <td>0.000000</td>\n",
              "      <td>0.000000</td>\n",
              "      <td>0.000000</td>\n",
              "    </tr>\n",
              "    <tr>\n",
              "      <th>max</th>\n",
              "      <td>9.000000</td>\n",
              "      <td>3.000000</td>\n",
              "      <td>2912.000000</td>\n",
              "      <td>30400.000000</td>\n",
              "      <td>9.000000</td>\n",
              "      <td>35000.000000</td>\n",
              "      <td>1.000000</td>\n",
              "      <td>1.000000</td>\n",
              "      <td>1.000000</td>\n",
              "      <td>1.000000</td>\n",
              "      <td>1.000000</td>\n",
              "      <td>1.000000</td>\n",
              "      <td>1.000000</td>\n",
              "      <td>1.000000</td>\n",
              "      <td>1.000000</td>\n",
              "      <td>1.000000</td>\n",
              "      <td>1.000000</td>\n",
              "      <td>1.000000</td>\n",
              "      <td>1.000000</td>\n",
              "      <td>1.000000</td>\n",
              "      <td>1.00000</td>\n",
              "      <td>1.000000</td>\n",
              "      <td>1.000000</td>\n",
              "      <td>1.000000</td>\n",
              "      <td>1.000000</td>\n",
              "      <td>1.000000</td>\n",
              "      <td>1.000000</td>\n",
              "      <td>1.000000</td>\n",
              "      <td>1.000000</td>\n",
              "      <td>1.000000</td>\n",
              "      <td>1.000000</td>\n",
              "      <td>1.000000</td>\n",
              "      <td>1.000000</td>\n",
              "      <td>1.000000</td>\n",
              "      <td>1.000000</td>\n",
              "      <td>1.000000</td>\n",
              "      <td>1.000000</td>\n",
              "      <td>1.000000</td>\n",
              "      <td>1.000000</td>\n",
              "      <td>1.000000</td>\n",
              "      <td>...</td>\n",
              "      <td>1.000000</td>\n",
              "      <td>1.000000</td>\n",
              "      <td>1.000000</td>\n",
              "      <td>1.000000</td>\n",
              "      <td>1.000000</td>\n",
              "      <td>1.000000</td>\n",
              "      <td>1.000000</td>\n",
              "      <td>1.000000</td>\n",
              "      <td>1.000000</td>\n",
              "      <td>1.000000</td>\n",
              "      <td>1.000000</td>\n",
              "      <td>1.000000</td>\n",
              "      <td>1.000000</td>\n",
              "      <td>1.000000</td>\n",
              "      <td>1.000000</td>\n",
              "      <td>1.000000</td>\n",
              "      <td>1.000000</td>\n",
              "      <td>1.000000</td>\n",
              "      <td>1.000000</td>\n",
              "      <td>1.000000</td>\n",
              "      <td>1.000000</td>\n",
              "      <td>1.000000</td>\n",
              "      <td>1.000000</td>\n",
              "      <td>1.000000</td>\n",
              "      <td>1.000000</td>\n",
              "      <td>1.000000</td>\n",
              "      <td>1.000000</td>\n",
              "      <td>1.000000</td>\n",
              "      <td>1.000000</td>\n",
              "      <td>1.000000</td>\n",
              "      <td>1.000000</td>\n",
              "      <td>1.000000</td>\n",
              "      <td>1.000000</td>\n",
              "      <td>1.000000</td>\n",
              "      <td>1.000000</td>\n",
              "      <td>1.000000</td>\n",
              "      <td>1.000000</td>\n",
              "      <td>1.000000</td>\n",
              "      <td>1.000000</td>\n",
              "      <td>1.000000</td>\n",
              "    </tr>\n",
              "  </tbody>\n",
              "</table>\n",
              "<p>8 rows × 108 columns</p>\n",
              "</div>\n",
              "      <button class=\"colab-df-convert\" onclick=\"convertToInteractive('df-6ed09c4f-875a-4da0-b6cf-f92f18098f3a')\"\n",
              "              title=\"Convert this dataframe to an interactive table.\"\n",
              "              style=\"display:none;\">\n",
              "        \n",
              "  <svg xmlns=\"http://www.w3.org/2000/svg\" height=\"24px\"viewBox=\"0 0 24 24\"\n",
              "       width=\"24px\">\n",
              "    <path d=\"M0 0h24v24H0V0z\" fill=\"none\"/>\n",
              "    <path d=\"M18.56 5.44l.94 2.06.94-2.06 2.06-.94-2.06-.94-.94-2.06-.94 2.06-2.06.94zm-11 1L8.5 8.5l.94-2.06 2.06-.94-2.06-.94L8.5 2.5l-.94 2.06-2.06.94zm10 10l.94 2.06.94-2.06 2.06-.94-2.06-.94-.94-2.06-.94 2.06-2.06.94z\"/><path d=\"M17.41 7.96l-1.37-1.37c-.4-.4-.92-.59-1.43-.59-.52 0-1.04.2-1.43.59L10.3 9.45l-7.72 7.72c-.78.78-.78 2.05 0 2.83L4 21.41c.39.39.9.59 1.41.59.51 0 1.02-.2 1.41-.59l7.78-7.78 2.81-2.81c.8-.78.8-2.07 0-2.86zM5.41 20L4 18.59l7.72-7.72 1.47 1.35L5.41 20z\"/>\n",
              "  </svg>\n",
              "      </button>\n",
              "      \n",
              "  <style>\n",
              "    .colab-df-container {\n",
              "      display:flex;\n",
              "      flex-wrap:wrap;\n",
              "      gap: 12px;\n",
              "    }\n",
              "\n",
              "    .colab-df-convert {\n",
              "      background-color: #E8F0FE;\n",
              "      border: none;\n",
              "      border-radius: 50%;\n",
              "      cursor: pointer;\n",
              "      display: none;\n",
              "      fill: #1967D2;\n",
              "      height: 32px;\n",
              "      padding: 0 0 0 0;\n",
              "      width: 32px;\n",
              "    }\n",
              "\n",
              "    .colab-df-convert:hover {\n",
              "      background-color: #E2EBFA;\n",
              "      box-shadow: 0px 1px 2px rgba(60, 64, 67, 0.3), 0px 1px 3px 1px rgba(60, 64, 67, 0.15);\n",
              "      fill: #174EA6;\n",
              "    }\n",
              "\n",
              "    [theme=dark] .colab-df-convert {\n",
              "      background-color: #3B4455;\n",
              "      fill: #D2E3FC;\n",
              "    }\n",
              "\n",
              "    [theme=dark] .colab-df-convert:hover {\n",
              "      background-color: #434B5C;\n",
              "      box-shadow: 0px 1px 3px 1px rgba(0, 0, 0, 0.15);\n",
              "      filter: drop-shadow(0px 1px 2px rgba(0, 0, 0, 0.3));\n",
              "      fill: #FFFFFF;\n",
              "    }\n",
              "  </style>\n",
              "\n",
              "      <script>\n",
              "        const buttonEl =\n",
              "          document.querySelector('#df-6ed09c4f-875a-4da0-b6cf-f92f18098f3a button.colab-df-convert');\n",
              "        buttonEl.style.display =\n",
              "          google.colab.kernel.accessAllowed ? 'block' : 'none';\n",
              "\n",
              "        async function convertToInteractive(key) {\n",
              "          const element = document.querySelector('#df-6ed09c4f-875a-4da0-b6cf-f92f18098f3a');\n",
              "          const dataTable =\n",
              "            await google.colab.kernel.invokeFunction('convertToInteractive',\n",
              "                                                     [key], {});\n",
              "          if (!dataTable) return;\n",
              "\n",
              "          const docLinkHtml = 'Like what you see? Visit the ' +\n",
              "            '<a target=\"_blank\" href=https://colab.research.google.com/notebooks/data_table.ipynb>data table notebook</a>'\n",
              "            + ' to learn more about interactive tables.';\n",
              "          element.innerHTML = '';\n",
              "          dataTable['output_type'] = 'display_data';\n",
              "          await google.colab.output.renderOutput(dataTable, element);\n",
              "          const docLink = document.createElement('div');\n",
              "          docLink.innerHTML = docLinkHtml;\n",
              "          element.appendChild(docLink);\n",
              "        }\n",
              "      </script>\n",
              "    </div>\n",
              "  </div>\n",
              "  "
            ],
            "text/plain": [
              "              bath      balcony  ...  location_Mahadevpura  location_Tumkur Road\n",
              "count  7120.000000  7120.000000  ...           7120.000000           7120.000000\n",
              "mean      2.390871     1.572759  ...              0.002809              0.002809\n",
              "std       0.876822     0.770583  ...              0.052929              0.052929\n",
              "min       1.000000     0.000000  ...              0.000000              0.000000\n",
              "25%       2.000000     1.000000  ...              0.000000              0.000000\n",
              "50%       2.000000     2.000000  ...              0.000000              0.000000\n",
              "75%       3.000000     2.000000  ...              0.000000              0.000000\n",
              "max       9.000000     3.000000  ...              1.000000              1.000000\n",
              "\n",
              "[8 rows x 108 columns]"
            ]
          },
          "metadata": {},
          "execution_count": 190
        }
      ]
    },
    {
      "cell_type": "code",
      "metadata": {
        "colab": {
          "base_uri": "https://localhost:8080/"
        },
        "id": "IJSQ6H-9xVxK",
        "outputId": "9b33eb5a-7b34-4dbf-b666-fe0fbe10ef3e"
      },
      "source": [
        "data.info()"
      ],
      "execution_count": null,
      "outputs": [
        {
          "output_type": "stream",
          "name": "stdout",
          "text": [
            "<class 'pandas.core.frame.DataFrame'>\n",
            "RangeIndex: 7120 entries, 0 to 7119\n",
            "Columns: 108 entries, bath to location_Tumkur Road\n",
            "dtypes: float64(4), int64(104)\n",
            "memory usage: 5.9 MB\n"
          ]
        }
      ]
    },
    {
      "cell_type": "code",
      "metadata": {
        "colab": {
          "base_uri": "https://localhost:8080/",
          "height": 334
        },
        "id": "P8XASBHWxX2e",
        "outputId": "015e8bf7-3a70-4e73-825e-68149b728bb8"
      },
      "source": [
        "data.tail()"
      ],
      "execution_count": null,
      "outputs": [
        {
          "output_type": "execute_result",
          "data": {
            "text/html": [
              "\n",
              "  <div id=\"df-e46bbe06-2eec-41f3-ad31-9e5b2250d671\">\n",
              "    <div class=\"colab-df-container\">\n",
              "      <div>\n",
              "<style scoped>\n",
              "    .dataframe tbody tr th:only-of-type {\n",
              "        vertical-align: middle;\n",
              "    }\n",
              "\n",
              "    .dataframe tbody tr th {\n",
              "        vertical-align: top;\n",
              "    }\n",
              "\n",
              "    .dataframe thead th {\n",
              "        text-align: right;\n",
              "    }\n",
              "</style>\n",
              "<table border=\"1\" class=\"dataframe\">\n",
              "  <thead>\n",
              "    <tr style=\"text-align: right;\">\n",
              "      <th></th>\n",
              "      <th>bath</th>\n",
              "      <th>balcony</th>\n",
              "      <th>price</th>\n",
              "      <th>total_sqft_int</th>\n",
              "      <th>bhk</th>\n",
              "      <th>price_per_sqft</th>\n",
              "      <th>area_typeSuper built-up  Area</th>\n",
              "      <th>area_typeBuilt-up  Area</th>\n",
              "      <th>area_typePlot  Area</th>\n",
              "      <th>availability_Ready To Move</th>\n",
              "      <th>location_Whitefield</th>\n",
              "      <th>location_Sarjapur  Road</th>\n",
              "      <th>location_Electronic City</th>\n",
              "      <th>location_Marathahalli</th>\n",
              "      <th>location_Raja Rajeshwari Nagar</th>\n",
              "      <th>location_Haralur Road</th>\n",
              "      <th>location_Hennur Road</th>\n",
              "      <th>location_Bannerghatta Road</th>\n",
              "      <th>location_Uttarahalli</th>\n",
              "      <th>location_Thanisandra</th>\n",
              "      <th>location_Electronic City Phase II</th>\n",
              "      <th>location_Hebbal</th>\n",
              "      <th>location_7th Phase JP Nagar</th>\n",
              "      <th>location_Yelahanka</th>\n",
              "      <th>location_Kanakpura Road</th>\n",
              "      <th>location_KR Puram</th>\n",
              "      <th>location_Sarjapur</th>\n",
              "      <th>location_Rajaji Nagar</th>\n",
              "      <th>location_Kasavanhalli</th>\n",
              "      <th>location_Bellandur</th>\n",
              "      <th>location_Begur Road</th>\n",
              "      <th>location_Banashankari</th>\n",
              "      <th>location_Kothanur</th>\n",
              "      <th>location_Hormavu</th>\n",
              "      <th>location_Harlur</th>\n",
              "      <th>location_Akshaya Nagar</th>\n",
              "      <th>location_Jakkur</th>\n",
              "      <th>location_Electronics City Phase 1</th>\n",
              "      <th>location_Varthur</th>\n",
              "      <th>location_Chandapura</th>\n",
              "      <th>...</th>\n",
              "      <th>location_Green Glen Layout</th>\n",
              "      <th>location_Old Madras Road</th>\n",
              "      <th>location_Rachenahalli</th>\n",
              "      <th>location_Panathur</th>\n",
              "      <th>location_Kudlu Gate</th>\n",
              "      <th>location_Thigalarapalya</th>\n",
              "      <th>location_Ambedkar Nagar</th>\n",
              "      <th>location_Jigani</th>\n",
              "      <th>location_Yelahanka New Town</th>\n",
              "      <th>location_Talaghattapura</th>\n",
              "      <th>location_Mysore Road</th>\n",
              "      <th>location_Kadugodi</th>\n",
              "      <th>location_Frazer Town</th>\n",
              "      <th>location_Dodda Nekkundi</th>\n",
              "      <th>location_Devanahalli</th>\n",
              "      <th>location_Kanakapura</th>\n",
              "      <th>location_Attibele</th>\n",
              "      <th>location_Anekal</th>\n",
              "      <th>location_Lakshminarayana Pura</th>\n",
              "      <th>location_Nagarbhavi</th>\n",
              "      <th>location_Ananth Nagar</th>\n",
              "      <th>location_5th Phase JP Nagar</th>\n",
              "      <th>location_TC Palaya</th>\n",
              "      <th>location_CV Raman Nagar</th>\n",
              "      <th>location_Kengeri Satellite Town</th>\n",
              "      <th>location_Kudlu</th>\n",
              "      <th>location_Jalahalli</th>\n",
              "      <th>location_Subramanyapura</th>\n",
              "      <th>location_Bhoganhalli</th>\n",
              "      <th>location_Doddathoguru</th>\n",
              "      <th>location_Kalena Agrahara</th>\n",
              "      <th>location_Horamavu Agara</th>\n",
              "      <th>location_Vidyaranyapura</th>\n",
              "      <th>location_BTM 2nd Stage</th>\n",
              "      <th>location_Hebbal Kempapura</th>\n",
              "      <th>location_Hosur Road</th>\n",
              "      <th>location_Horamavu Banaswadi</th>\n",
              "      <th>location_Domlur</th>\n",
              "      <th>location_Mahadevpura</th>\n",
              "      <th>location_Tumkur Road</th>\n",
              "    </tr>\n",
              "  </thead>\n",
              "  <tbody>\n",
              "    <tr>\n",
              "      <th>7115</th>\n",
              "      <td>3</td>\n",
              "      <td>2.0</td>\n",
              "      <td>325.00</td>\n",
              "      <td>2900.0</td>\n",
              "      <td>3</td>\n",
              "      <td>11206.896550</td>\n",
              "      <td>1</td>\n",
              "      <td>0</td>\n",
              "      <td>0</td>\n",
              "      <td>1</td>\n",
              "      <td>0</td>\n",
              "      <td>0</td>\n",
              "      <td>0</td>\n",
              "      <td>0</td>\n",
              "      <td>0</td>\n",
              "      <td>0</td>\n",
              "      <td>0</td>\n",
              "      <td>0</td>\n",
              "      <td>0</td>\n",
              "      <td>0</td>\n",
              "      <td>0</td>\n",
              "      <td>0</td>\n",
              "      <td>0</td>\n",
              "      <td>0</td>\n",
              "      <td>0</td>\n",
              "      <td>0</td>\n",
              "      <td>0</td>\n",
              "      <td>0</td>\n",
              "      <td>0</td>\n",
              "      <td>0</td>\n",
              "      <td>0</td>\n",
              "      <td>0</td>\n",
              "      <td>0</td>\n",
              "      <td>0</td>\n",
              "      <td>0</td>\n",
              "      <td>0</td>\n",
              "      <td>0</td>\n",
              "      <td>0</td>\n",
              "      <td>0</td>\n",
              "      <td>0</td>\n",
              "      <td>...</td>\n",
              "      <td>0</td>\n",
              "      <td>0</td>\n",
              "      <td>0</td>\n",
              "      <td>0</td>\n",
              "      <td>0</td>\n",
              "      <td>0</td>\n",
              "      <td>0</td>\n",
              "      <td>0</td>\n",
              "      <td>0</td>\n",
              "      <td>0</td>\n",
              "      <td>0</td>\n",
              "      <td>0</td>\n",
              "      <td>0</td>\n",
              "      <td>0</td>\n",
              "      <td>0</td>\n",
              "      <td>0</td>\n",
              "      <td>0</td>\n",
              "      <td>0</td>\n",
              "      <td>0</td>\n",
              "      <td>0</td>\n",
              "      <td>0</td>\n",
              "      <td>0</td>\n",
              "      <td>0</td>\n",
              "      <td>0</td>\n",
              "      <td>0</td>\n",
              "      <td>0</td>\n",
              "      <td>0</td>\n",
              "      <td>0</td>\n",
              "      <td>0</td>\n",
              "      <td>0</td>\n",
              "      <td>0</td>\n",
              "      <td>0</td>\n",
              "      <td>0</td>\n",
              "      <td>0</td>\n",
              "      <td>0</td>\n",
              "      <td>0</td>\n",
              "      <td>0</td>\n",
              "      <td>0</td>\n",
              "      <td>0</td>\n",
              "      <td>0</td>\n",
              "    </tr>\n",
              "    <tr>\n",
              "      <th>7116</th>\n",
              "      <td>3</td>\n",
              "      <td>1.0</td>\n",
              "      <td>84.83</td>\n",
              "      <td>1780.0</td>\n",
              "      <td>3</td>\n",
              "      <td>4765.730337</td>\n",
              "      <td>1</td>\n",
              "      <td>0</td>\n",
              "      <td>0</td>\n",
              "      <td>0</td>\n",
              "      <td>0</td>\n",
              "      <td>0</td>\n",
              "      <td>0</td>\n",
              "      <td>0</td>\n",
              "      <td>0</td>\n",
              "      <td>0</td>\n",
              "      <td>0</td>\n",
              "      <td>0</td>\n",
              "      <td>0</td>\n",
              "      <td>0</td>\n",
              "      <td>0</td>\n",
              "      <td>0</td>\n",
              "      <td>0</td>\n",
              "      <td>0</td>\n",
              "      <td>0</td>\n",
              "      <td>0</td>\n",
              "      <td>0</td>\n",
              "      <td>0</td>\n",
              "      <td>0</td>\n",
              "      <td>0</td>\n",
              "      <td>0</td>\n",
              "      <td>0</td>\n",
              "      <td>0</td>\n",
              "      <td>0</td>\n",
              "      <td>0</td>\n",
              "      <td>0</td>\n",
              "      <td>0</td>\n",
              "      <td>0</td>\n",
              "      <td>0</td>\n",
              "      <td>0</td>\n",
              "      <td>...</td>\n",
              "      <td>0</td>\n",
              "      <td>0</td>\n",
              "      <td>0</td>\n",
              "      <td>0</td>\n",
              "      <td>0</td>\n",
              "      <td>0</td>\n",
              "      <td>0</td>\n",
              "      <td>0</td>\n",
              "      <td>0</td>\n",
              "      <td>0</td>\n",
              "      <td>0</td>\n",
              "      <td>0</td>\n",
              "      <td>0</td>\n",
              "      <td>0</td>\n",
              "      <td>0</td>\n",
              "      <td>0</td>\n",
              "      <td>0</td>\n",
              "      <td>0</td>\n",
              "      <td>0</td>\n",
              "      <td>0</td>\n",
              "      <td>0</td>\n",
              "      <td>0</td>\n",
              "      <td>0</td>\n",
              "      <td>0</td>\n",
              "      <td>0</td>\n",
              "      <td>0</td>\n",
              "      <td>0</td>\n",
              "      <td>0</td>\n",
              "      <td>0</td>\n",
              "      <td>0</td>\n",
              "      <td>0</td>\n",
              "      <td>0</td>\n",
              "      <td>0</td>\n",
              "      <td>0</td>\n",
              "      <td>0</td>\n",
              "      <td>0</td>\n",
              "      <td>0</td>\n",
              "      <td>0</td>\n",
              "      <td>0</td>\n",
              "      <td>0</td>\n",
              "    </tr>\n",
              "    <tr>\n",
              "      <th>7117</th>\n",
              "      <td>2</td>\n",
              "      <td>1.0</td>\n",
              "      <td>48.00</td>\n",
              "      <td>880.0</td>\n",
              "      <td>2</td>\n",
              "      <td>5454.545455</td>\n",
              "      <td>0</td>\n",
              "      <td>0</td>\n",
              "      <td>1</td>\n",
              "      <td>1</td>\n",
              "      <td>0</td>\n",
              "      <td>0</td>\n",
              "      <td>0</td>\n",
              "      <td>0</td>\n",
              "      <td>0</td>\n",
              "      <td>0</td>\n",
              "      <td>0</td>\n",
              "      <td>0</td>\n",
              "      <td>0</td>\n",
              "      <td>0</td>\n",
              "      <td>0</td>\n",
              "      <td>0</td>\n",
              "      <td>0</td>\n",
              "      <td>0</td>\n",
              "      <td>0</td>\n",
              "      <td>0</td>\n",
              "      <td>0</td>\n",
              "      <td>0</td>\n",
              "      <td>0</td>\n",
              "      <td>0</td>\n",
              "      <td>0</td>\n",
              "      <td>0</td>\n",
              "      <td>0</td>\n",
              "      <td>0</td>\n",
              "      <td>0</td>\n",
              "      <td>0</td>\n",
              "      <td>0</td>\n",
              "      <td>0</td>\n",
              "      <td>0</td>\n",
              "      <td>0</td>\n",
              "      <td>...</td>\n",
              "      <td>0</td>\n",
              "      <td>0</td>\n",
              "      <td>0</td>\n",
              "      <td>0</td>\n",
              "      <td>0</td>\n",
              "      <td>0</td>\n",
              "      <td>0</td>\n",
              "      <td>0</td>\n",
              "      <td>0</td>\n",
              "      <td>0</td>\n",
              "      <td>0</td>\n",
              "      <td>0</td>\n",
              "      <td>0</td>\n",
              "      <td>0</td>\n",
              "      <td>0</td>\n",
              "      <td>0</td>\n",
              "      <td>0</td>\n",
              "      <td>0</td>\n",
              "      <td>0</td>\n",
              "      <td>0</td>\n",
              "      <td>0</td>\n",
              "      <td>0</td>\n",
              "      <td>0</td>\n",
              "      <td>0</td>\n",
              "      <td>0</td>\n",
              "      <td>0</td>\n",
              "      <td>0</td>\n",
              "      <td>0</td>\n",
              "      <td>0</td>\n",
              "      <td>0</td>\n",
              "      <td>0</td>\n",
              "      <td>0</td>\n",
              "      <td>0</td>\n",
              "      <td>0</td>\n",
              "      <td>0</td>\n",
              "      <td>0</td>\n",
              "      <td>0</td>\n",
              "      <td>0</td>\n",
              "      <td>0</td>\n",
              "      <td>0</td>\n",
              "    </tr>\n",
              "    <tr>\n",
              "      <th>7118</th>\n",
              "      <td>2</td>\n",
              "      <td>1.0</td>\n",
              "      <td>55.00</td>\n",
              "      <td>1000.0</td>\n",
              "      <td>2</td>\n",
              "      <td>5500.000000</td>\n",
              "      <td>0</td>\n",
              "      <td>0</td>\n",
              "      <td>1</td>\n",
              "      <td>0</td>\n",
              "      <td>0</td>\n",
              "      <td>0</td>\n",
              "      <td>0</td>\n",
              "      <td>0</td>\n",
              "      <td>0</td>\n",
              "      <td>0</td>\n",
              "      <td>0</td>\n",
              "      <td>0</td>\n",
              "      <td>0</td>\n",
              "      <td>0</td>\n",
              "      <td>0</td>\n",
              "      <td>0</td>\n",
              "      <td>0</td>\n",
              "      <td>0</td>\n",
              "      <td>0</td>\n",
              "      <td>0</td>\n",
              "      <td>0</td>\n",
              "      <td>0</td>\n",
              "      <td>0</td>\n",
              "      <td>0</td>\n",
              "      <td>0</td>\n",
              "      <td>0</td>\n",
              "      <td>0</td>\n",
              "      <td>0</td>\n",
              "      <td>0</td>\n",
              "      <td>0</td>\n",
              "      <td>0</td>\n",
              "      <td>0</td>\n",
              "      <td>0</td>\n",
              "      <td>0</td>\n",
              "      <td>...</td>\n",
              "      <td>0</td>\n",
              "      <td>0</td>\n",
              "      <td>0</td>\n",
              "      <td>0</td>\n",
              "      <td>0</td>\n",
              "      <td>0</td>\n",
              "      <td>0</td>\n",
              "      <td>0</td>\n",
              "      <td>0</td>\n",
              "      <td>0</td>\n",
              "      <td>0</td>\n",
              "      <td>0</td>\n",
              "      <td>0</td>\n",
              "      <td>0</td>\n",
              "      <td>0</td>\n",
              "      <td>0</td>\n",
              "      <td>0</td>\n",
              "      <td>0</td>\n",
              "      <td>0</td>\n",
              "      <td>0</td>\n",
              "      <td>0</td>\n",
              "      <td>0</td>\n",
              "      <td>0</td>\n",
              "      <td>0</td>\n",
              "      <td>0</td>\n",
              "      <td>0</td>\n",
              "      <td>0</td>\n",
              "      <td>0</td>\n",
              "      <td>0</td>\n",
              "      <td>0</td>\n",
              "      <td>0</td>\n",
              "      <td>0</td>\n",
              "      <td>0</td>\n",
              "      <td>0</td>\n",
              "      <td>0</td>\n",
              "      <td>0</td>\n",
              "      <td>0</td>\n",
              "      <td>0</td>\n",
              "      <td>0</td>\n",
              "      <td>0</td>\n",
              "    </tr>\n",
              "    <tr>\n",
              "      <th>7119</th>\n",
              "      <td>2</td>\n",
              "      <td>1.0</td>\n",
              "      <td>78.00</td>\n",
              "      <td>1400.0</td>\n",
              "      <td>3</td>\n",
              "      <td>5571.428571</td>\n",
              "      <td>0</td>\n",
              "      <td>0</td>\n",
              "      <td>1</td>\n",
              "      <td>0</td>\n",
              "      <td>0</td>\n",
              "      <td>0</td>\n",
              "      <td>0</td>\n",
              "      <td>0</td>\n",
              "      <td>0</td>\n",
              "      <td>0</td>\n",
              "      <td>0</td>\n",
              "      <td>0</td>\n",
              "      <td>0</td>\n",
              "      <td>0</td>\n",
              "      <td>0</td>\n",
              "      <td>0</td>\n",
              "      <td>0</td>\n",
              "      <td>0</td>\n",
              "      <td>0</td>\n",
              "      <td>0</td>\n",
              "      <td>0</td>\n",
              "      <td>0</td>\n",
              "      <td>0</td>\n",
              "      <td>0</td>\n",
              "      <td>0</td>\n",
              "      <td>0</td>\n",
              "      <td>0</td>\n",
              "      <td>0</td>\n",
              "      <td>0</td>\n",
              "      <td>0</td>\n",
              "      <td>0</td>\n",
              "      <td>0</td>\n",
              "      <td>0</td>\n",
              "      <td>0</td>\n",
              "      <td>...</td>\n",
              "      <td>0</td>\n",
              "      <td>0</td>\n",
              "      <td>0</td>\n",
              "      <td>0</td>\n",
              "      <td>0</td>\n",
              "      <td>0</td>\n",
              "      <td>0</td>\n",
              "      <td>0</td>\n",
              "      <td>0</td>\n",
              "      <td>0</td>\n",
              "      <td>0</td>\n",
              "      <td>0</td>\n",
              "      <td>0</td>\n",
              "      <td>0</td>\n",
              "      <td>0</td>\n",
              "      <td>0</td>\n",
              "      <td>0</td>\n",
              "      <td>0</td>\n",
              "      <td>0</td>\n",
              "      <td>0</td>\n",
              "      <td>0</td>\n",
              "      <td>0</td>\n",
              "      <td>0</td>\n",
              "      <td>0</td>\n",
              "      <td>0</td>\n",
              "      <td>0</td>\n",
              "      <td>0</td>\n",
              "      <td>0</td>\n",
              "      <td>0</td>\n",
              "      <td>0</td>\n",
              "      <td>0</td>\n",
              "      <td>0</td>\n",
              "      <td>0</td>\n",
              "      <td>0</td>\n",
              "      <td>0</td>\n",
              "      <td>0</td>\n",
              "      <td>0</td>\n",
              "      <td>0</td>\n",
              "      <td>0</td>\n",
              "      <td>0</td>\n",
              "    </tr>\n",
              "  </tbody>\n",
              "</table>\n",
              "<p>5 rows × 108 columns</p>\n",
              "</div>\n",
              "      <button class=\"colab-df-convert\" onclick=\"convertToInteractive('df-e46bbe06-2eec-41f3-ad31-9e5b2250d671')\"\n",
              "              title=\"Convert this dataframe to an interactive table.\"\n",
              "              style=\"display:none;\">\n",
              "        \n",
              "  <svg xmlns=\"http://www.w3.org/2000/svg\" height=\"24px\"viewBox=\"0 0 24 24\"\n",
              "       width=\"24px\">\n",
              "    <path d=\"M0 0h24v24H0V0z\" fill=\"none\"/>\n",
              "    <path d=\"M18.56 5.44l.94 2.06.94-2.06 2.06-.94-2.06-.94-.94-2.06-.94 2.06-2.06.94zm-11 1L8.5 8.5l.94-2.06 2.06-.94-2.06-.94L8.5 2.5l-.94 2.06-2.06.94zm10 10l.94 2.06.94-2.06 2.06-.94-2.06-.94-.94-2.06-.94 2.06-2.06.94z\"/><path d=\"M17.41 7.96l-1.37-1.37c-.4-.4-.92-.59-1.43-.59-.52 0-1.04.2-1.43.59L10.3 9.45l-7.72 7.72c-.78.78-.78 2.05 0 2.83L4 21.41c.39.39.9.59 1.41.59.51 0 1.02-.2 1.41-.59l7.78-7.78 2.81-2.81c.8-.78.8-2.07 0-2.86zM5.41 20L4 18.59l7.72-7.72 1.47 1.35L5.41 20z\"/>\n",
              "  </svg>\n",
              "      </button>\n",
              "      \n",
              "  <style>\n",
              "    .colab-df-container {\n",
              "      display:flex;\n",
              "      flex-wrap:wrap;\n",
              "      gap: 12px;\n",
              "    }\n",
              "\n",
              "    .colab-df-convert {\n",
              "      background-color: #E8F0FE;\n",
              "      border: none;\n",
              "      border-radius: 50%;\n",
              "      cursor: pointer;\n",
              "      display: none;\n",
              "      fill: #1967D2;\n",
              "      height: 32px;\n",
              "      padding: 0 0 0 0;\n",
              "      width: 32px;\n",
              "    }\n",
              "\n",
              "    .colab-df-convert:hover {\n",
              "      background-color: #E2EBFA;\n",
              "      box-shadow: 0px 1px 2px rgba(60, 64, 67, 0.3), 0px 1px 3px 1px rgba(60, 64, 67, 0.15);\n",
              "      fill: #174EA6;\n",
              "    }\n",
              "\n",
              "    [theme=dark] .colab-df-convert {\n",
              "      background-color: #3B4455;\n",
              "      fill: #D2E3FC;\n",
              "    }\n",
              "\n",
              "    [theme=dark] .colab-df-convert:hover {\n",
              "      background-color: #434B5C;\n",
              "      box-shadow: 0px 1px 3px 1px rgba(0, 0, 0, 0.15);\n",
              "      filter: drop-shadow(0px 1px 2px rgba(0, 0, 0, 0.3));\n",
              "      fill: #FFFFFF;\n",
              "    }\n",
              "  </style>\n",
              "\n",
              "      <script>\n",
              "        const buttonEl =\n",
              "          document.querySelector('#df-e46bbe06-2eec-41f3-ad31-9e5b2250d671 button.colab-df-convert');\n",
              "        buttonEl.style.display =\n",
              "          google.colab.kernel.accessAllowed ? 'block' : 'none';\n",
              "\n",
              "        async function convertToInteractive(key) {\n",
              "          const element = document.querySelector('#df-e46bbe06-2eec-41f3-ad31-9e5b2250d671');\n",
              "          const dataTable =\n",
              "            await google.colab.kernel.invokeFunction('convertToInteractive',\n",
              "                                                     [key], {});\n",
              "          if (!dataTable) return;\n",
              "\n",
              "          const docLinkHtml = 'Like what you see? Visit the ' +\n",
              "            '<a target=\"_blank\" href=https://colab.research.google.com/notebooks/data_table.ipynb>data table notebook</a>'\n",
              "            + ' to learn more about interactive tables.';\n",
              "          element.innerHTML = '';\n",
              "          dataTable['output_type'] = 'display_data';\n",
              "          await google.colab.output.renderOutput(dataTable, element);\n",
              "          const docLink = document.createElement('div');\n",
              "          docLink.innerHTML = docLinkHtml;\n",
              "          element.appendChild(docLink);\n",
              "        }\n",
              "      </script>\n",
              "    </div>\n",
              "  </div>\n",
              "  "
            ],
            "text/plain": [
              "      bath  balcony  ...  location_Mahadevpura  location_Tumkur Road\n",
              "7115     3      2.0  ...                     0                     0\n",
              "7116     3      1.0  ...                     0                     0\n",
              "7117     2      1.0  ...                     0                     0\n",
              "7118     2      1.0  ...                     0                     0\n",
              "7119     2      1.0  ...                     0                     0\n",
              "\n",
              "[5 rows x 108 columns]"
            ]
          },
          "metadata": {},
          "execution_count": 192
        }
      ]
    },
    {
      "cell_type": "code",
      "metadata": {
        "colab": {
          "base_uri": "https://localhost:8080/",
          "height": 369
        },
        "id": "aL54Q2Nlxbg-",
        "outputId": "9c948cf8-5a6c-40e6-8612-a1c33ae82d3a"
      },
      "source": [
        "import seaborn as sns\n",
        "sns.displot(data['price'],color='red',bins=20,kde=True)\n",
        "plt.show()"
      ],
      "execution_count": null,
      "outputs": [
        {
          "output_type": "display_data",
          "data": {
            "image/png": "[encoded data removed]",
            "text/plain": [
              "<Figure size 360x360 with 1 Axes>"
            ]
          },
          "metadata": {
            "needs_background": "light"
          }
        }
      ]
    },
    {
      "cell_type": "code",
      "metadata": {
        "id": "4_h8l7_wxnMy"
      },
      "source": [
        "graph=data.head()"
      ],
      "execution_count": null,
      "outputs": []
    },
    {
      "cell_type": "code",
      "metadata": {
        "colab": {
          "base_uri": "https://localhost:8080/",
          "height": 1000
        },
        "id": "AM3dHgRayBew",
        "outputId": "27e1dc56-5e84-47e2-f453-2b09f37ee624"
      },
      "source": [
        "graph.plot(kind='bar')\n",
        "plt.show()"
      ],
      "execution_count": null,
      "outputs": [
        {
          "output_type": "display_data",
          "data": {
            "image/png": "[encoded data removed]",
            "text/plain": [
              "<Figure size 432x288 with 1 Axes>"
            ]
          },
          "metadata": {
            "needs_background": "light"
          }
        }
      ]
    },
    {
      "cell_type": "code",
      "metadata": {
        "colab": {
          "base_uri": "https://localhost:8080/"
        },
        "id": "rwA4_K9CyHKf",
        "outputId": "6b993a24-7713-46b0-cf6f-922c9537f1b5"
      },
      "source": [
        "X=data.drop(['price'],axis=1)# X stands for independent variable \n",
        "y=data['price'] # y stands for dependent variable\n",
        "print(\"X_shape--->\",X.shape)\n",
        "print(\"y_shape-->\",y.shape)"
      ],
      "execution_count": null,
      "outputs": [
        {
          "output_type": "stream",
          "name": "stdout",
          "text": [
            "X_shape---> (7120, 107)\n",
            "y_shape--> (7120,)\n"
          ]
        }
      ]
    },
    {
      "cell_type": "code",
      "metadata": {
        "colab": {
          "base_uri": "https://localhost:8080/"
        },
        "id": "FXhhrtciyf-B",
        "outputId": "1bd84215-f817-4fb5-b0ed-cbb3dc8a61ed"
      },
      "source": [
        "from sklearn.model_selection import train_test_split\n",
        "X_train,X_test,y_train,y_test=train_test_split(X,y,test_size=0.2,random_state=0)\n",
        "print(\"X_train_shape--->\",X_train.shape)\n",
        "print(\"X_test_shape--->\",X_test.shape)\n",
        "print(\"y_train_shape--->\",y_train.shape)\n",
        "print(\"y_test_shape--->\",y_test.shape)"
      ],
      "execution_count": null,
      "outputs": [
        {
          "output_type": "stream",
          "name": "stdout",
          "text": [
            "X_train_shape---> (5696, 107)\n",
            "X_test_shape---> (1424, 107)\n",
            "y_train_shape---> (5696,)\n",
            "y_test_shape---> (1424,)\n"
          ]
        }
      ]
    },
    {
      "cell_type": "code",
      "metadata": {
        "id": "cdC8bDu2zgDd"
      },
      "source": [
        "from sklearn.preprocessing import StandardScaler\n",
        "sc=StandardScaler()\n",
        "X_train=sc.fit_transform(X_train)\n",
        "X_test=sc.fit_transform(X_test)"
      ],
      "execution_count": null,
      "outputs": []
    },
    {
      "cell_type": "code",
      "source": [
        "X_train,X_test\n"
      ],
      "metadata": {
        "colab": {
          "base_uri": "https://localhost:8080/"
        },
        "id": "NQc-PeuIchRK",
        "outputId": "70907bf2-c3ae-48c9-aaea-1f35d52a42bf"
      },
      "execution_count": null,
      "outputs": [
        {
          "output_type": "execute_result",
          "data": {
            "text/plain": [
              "(array([[-0.44764781, -0.74116903, -0.03454302, ..., -0.0496379 ,\n",
              "         -0.04594768, -0.05307449],\n",
              "        [ 1.81081272,  0.55247268,  0.88214411, ..., -0.0496379 ,\n",
              "         -0.04594768, -0.05307449],\n",
              "        [-0.44764781,  0.55247268, -0.51652443, ..., -0.0496379 ,\n",
              "         -0.04594768, -0.05307449],\n",
              "        ...,\n",
              "        [-0.44764781,  0.55247268, -0.1959722 , ..., -0.0496379 ,\n",
              "         -0.04594768, -0.05307449],\n",
              "        [-0.44764781,  0.55247268, -0.32972781, ..., -0.0496379 ,\n",
              "         -0.04594768, -0.05307449],\n",
              "        [-0.44764781, -0.74116903, -0.36662591, ..., -0.0496379 ,\n",
              "         -0.04594768, -0.05307449]]),\n",
              " array([[-0.43875851,  0.5626897 , -0.04336068, ..., -0.06504853,\n",
              "         -0.0751646 , -0.05307449],\n",
              "        [-0.43875851, -0.75220845, -0.32675886, ..., -0.06504853,\n",
              "         -0.0751646 , -0.05307449],\n",
              "        [-0.43875851, -0.75220845, -0.25822466, ..., -0.06504853,\n",
              "         -0.0751646 , -0.05307449],\n",
              "        ...,\n",
              "        [ 0.75132172,  0.5626897 ,  0.0566622 , ..., 15.37313674,\n",
              "         -0.0751646 , -0.05307449],\n",
              "        [-0.43875851,  0.5626897 , -0.29527017, ..., -0.06504853,\n",
              "         -0.0751646 , -0.05307449],\n",
              "        [ 0.75132172,  0.5626897 ,  2.21919403, ..., -0.06504853,\n",
              "         -0.0751646 , -0.05307449]]))"
            ]
          },
          "metadata": {},
          "execution_count": 199
        }
      ]
    },
    {
      "cell_type": "code",
      "metadata": {
        "colab": {
          "base_uri": "https://localhost:8080/"
        },
        "id": "KAkcOMKGzocz",
        "outputId": "f76d9247-a119-4364-d0c0-58f797f9141c"
      },
      "source": [
        "from sklearn.neighbors import KNeighborsRegressor\n",
        "regressor=KNeighborsRegressor(n_neighbors=5)\n",
        "regressor.fit(X_train,y_train)\n"
      ],
      "execution_count": null,
      "outputs": [
        {
          "output_type": "execute_result",
          "data": {
            "text/plain": [
              "KNeighborsRegressor()"
            ]
          },
          "metadata": {},
          "execution_count": 200
        }
      ]
    },
    {
      "cell_type": "code",
      "metadata": {
        "colab": {
          "base_uri": "https://localhost:8080/"
        },
        "id": "20kAVgoG0Jbt",
        "outputId": "6245c0ec-f47c-47a7-dd8d-f0804fae91e4"
      },
      "source": [
        "regressor.score(X_test,y_test)"
      ],
      "execution_count": null,
      "outputs": [
        {
          "output_type": "execute_result",
          "data": {
            "text/plain": [
              "0.8856401850382289"
            ]
          },
          "metadata": {},
          "execution_count": 201
        }
      ]
    },
    {
      "cell_type": "code",
      "metadata": {
        "colab": {
          "base_uri": "https://localhost:8080/"
        },
        "id": "-sVQgCbK0d4K",
        "outputId": "368c6b9d-fc1d-4e25-9c8d-0424b62a013f"
      },
      "source": [
        "predicted=regressor.predict(X_test)\n",
        "print(predicted)"
      ],
      "execution_count": null,
      "outputs": [
        {
          "output_type": "stream",
          "name": "stdout",
          "text": [
            "[ 67.     39.406  60.3   ... 139.2    77.2   674.   ]\n"
          ]
        }
      ]
    },
    {
      "cell_type": "code",
      "metadata": {
        "colab": {
          "base_uri": "https://localhost:8080/"
        },
        "id": "8O0BKbts01PT",
        "outputId": "e59da00a-5b5b-41ff-af9c-fa2d76f637ea"
      },
      "source": [
        "dataframe=pd.DataFrame({'Actual':y_test,'predict':predicted})\n",
        "print(dataframe)"
      ],
      "execution_count": null,
      "outputs": [
        {
          "output_type": "stream",
          "name": "stdout",
          "text": [
            "      Actual  predict\n",
            "1189    68.0   67.000\n",
            "5876    36.0   39.406\n",
            "5597    61.0   60.300\n",
            "3391    85.0   79.408\n",
            "6122    64.0   66.000\n",
            "...      ...      ...\n",
            "5830   187.0  172.000\n",
            "4887    57.0   48.000\n",
            "1861    90.0  139.200\n",
            "3014    75.0   77.200\n",
            "1670   864.0  674.000\n",
            "\n",
            "[1424 rows x 2 columns]\n"
          ]
        }
      ]
    },
    {
      "cell_type": "code",
      "metadata": {
        "colab": {
          "base_uri": "https://localhost:8080/"
        },
        "id": "NhaetYC11R3W",
        "outputId": "b4cdc7b3-4d2b-42db-fb25-441e6516f9ff"
      },
      "source": [
        "import math\n",
        "from sklearn.metrics import mean_squared_error\n",
        "mse=mean_squared_error(y_test,predicted)\n",
        "print(mse)"
      ],
      "execution_count": null,
      "outputs": [
        {
          "output_type": "stream",
          "name": "stdout",
          "text": [
            "1452.0092160428371\n"
          ]
        }
      ]
    },
    {
      "cell_type": "code",
      "metadata": {
        "colab": {
          "base_uri": "https://localhost:8080/"
        },
        "id": "V5pB5IVP1dcL",
        "outputId": "23166c3c-37a3-455b-e2c4-543524d2a42d"
      },
      "source": [
        "rmse=np.sqrt(mse)\n",
        "print(rmse)"
      ],
      "execution_count": null,
      "outputs": [
        {
          "output_type": "stream",
          "name": "stdout",
          "text": [
            "38.1052386955237\n"
          ]
        }
      ]
    },
    {
      "cell_type": "code",
      "metadata": {
        "colab": {
          "base_uri": "https://localhost:8080/",
          "height": 281
        },
        "id": "M10uu0pZ2S1X",
        "outputId": "ceb588d9-cfaf-432a-f557-230477b2b554"
      },
      "source": [
        "graph=dataframe.head()\n",
        "graph.plot(kind='bar')\n",
        "plt.show()"
      ],
      "execution_count": null,
      "outputs": [
        {
          "output_type": "display_data",
          "data": {
            "image/png": "[encoded data removed]",
            "text/plain": [
              "<Figure size 432x288 with 1 Axes>"
            ]
          },
          "metadata": {
            "needs_background": "light"
          }
        }
      ]
    },
    {
      "cell_type": "code",
      "metadata": {
        "id": "p0ygP9ig2cxG",
        "colab": {
          "base_uri": "https://localhost:8080/"
        },
        "outputId": "94b1b767-d156-470e-ac41-7faaba85a2cc"
      },
      "source": [
        "from sklearn.linear_model import LinearRegression\n",
        "Regressor_1=LinearRegression()\n",
        "Regressor_1.fit(X_train,y_train)"
      ],
      "execution_count": null,
      "outputs": [
        {
          "output_type": "execute_result",
          "data": {
            "text/plain": [
              "LinearRegression()"
            ]
          },
          "metadata": {},
          "execution_count": 207
        }
      ]
    },
    {
      "cell_type": "code",
      "source": [
        "Regressor_1.coef_"
      ],
      "metadata": {
        "colab": {
          "base_uri": "https://localhost:8080/"
        },
        "id": "iWkzVAPUnIqX",
        "outputId": "23b6f0f6-cb6b-4240-e0cd-4545c195bb75"
      },
      "execution_count": null,
      "outputs": [
        {
          "output_type": "execute_result",
          "data": {
            "text/plain": [
              "array([ 2.72733094e-02, -5.66780386e-01,  7.85493387e+01, -1.28223806e+01,\n",
              "        6.62347113e+01, -1.88307325e+00, -3.74242299e+00, -5.43206396e+00,\n",
              "       -1.84642396e+00, -3.60058667e+00, -2.49842892e+00,  4.00166352e-01,\n",
              "       -1.16360370e+00,  2.24410163e+00,  1.87586670e-01, -1.41125022e+00,\n",
              "       -4.44912836e-01,  2.57389864e+00, -1.75777014e+00,  2.66716762e+00,\n",
              "       -3.14023786e+00, -1.78789199e+00, -1.02777303e+00, -2.87521308e-02,\n",
              "        1.40791031e+00,  1.82176921e+00, -5.59068059e+00, -9.28301424e-01,\n",
              "       -6.03366685e-01,  1.88159434e+00, -5.29576978e-01, -4.98745475e-01,\n",
              "        7.12787558e-01, -1.48295499e+00,  1.12044791e-01, -1.58769898e+00,\n",
              "        5.13148322e-01,  7.26498264e-01,  3.96764027e+00,  2.49730952e-01,\n",
              "        4.05281231e-01,  3.05752125e-01, -3.35033606e-01,  1.21381533e+00,\n",
              "       -1.65039967e+00, -2.78769101e+00, -7.97284015e-03,  4.90588404e-02,\n",
              "       -7.49095121e-01, -2.39751003e+00, -1.13951982e+00,  5.52757261e-01,\n",
              "        1.15376796e+00, -4.74733567e-01, -8.39235576e-01,  1.42644594e+00,\n",
              "        2.26636108e+00, -3.22890232e-01, -2.95228906e+00, -1.11715737e+00,\n",
              "        1.22575244e+00, -6.14247440e-01, -1.45711027e-01,  7.53254134e-02,\n",
              "       -1.54819208e+00,  1.68415719e+00, -8.82547129e-01, -1.10358013e+00,\n",
              "       -6.46186880e-01,  3.36017211e-01, -8.93499489e-01, -2.57822566e-01,\n",
              "       -2.10677845e+00, -1.43584207e+00,  4.26274740e-01,  1.46470589e+00,\n",
              "       -1.23938893e+00,  4.21430752e-01, -2.27084674e-01, -2.33469918e+00,\n",
              "        5.10237236e-01,  3.62035041e-02,  2.18909496e-01,  3.38259295e+00,\n",
              "        2.49452676e+00, -8.26328791e-01, -7.76816566e-01,  2.71073906e+00,\n",
              "        3.73069118e-01,  2.16418597e-01,  1.76260319e-01,  1.36404628e+00,\n",
              "        9.35459089e-01, -1.03344125e+00,  2.91268717e-01, -9.27277074e-01,\n",
              "        1.78125371e+00,  5.61544008e-01,  1.18752632e+00,  5.70856762e-01,\n",
              "       -6.71580783e-01, -1.73006872e+00, -7.86616430e-01,  7.18875957e-01,\n",
              "       -1.68929020e+00,  3.03084093e-01, -6.20988364e-01])"
            ]
          },
          "metadata": {},
          "execution_count": 208
        }
      ]
    },
    {
      "cell_type": "code",
      "source": [
        "Regressor_1.intercept_"
      ],
      "metadata": {
        "colab": {
          "base_uri": "https://localhost:8080/"
        },
        "id": "Z8_d6eYLnlZu",
        "outputId": "a9de7398-f282-4574-dd59-b80adc6a0abb"
      },
      "execution_count": null,
      "outputs": [
        {
          "output_type": "execute_result",
          "data": {
            "text/plain": [
              "96.69880969101119"
            ]
          },
          "metadata": {},
          "execution_count": 209
        }
      ]
    },
    {
      "cell_type": "code",
      "source": [
        "X_test[0,:]"
      ],
      "metadata": {
        "colab": {
          "base_uri": "https://localhost:8080/"
        },
        "id": "N6W5F5Tqn0At",
        "outputId": "3514ac2e-6935-4676-db94-4e88b35f6baa"
      },
      "execution_count": null,
      "outputs": [
        {
          "output_type": "execute_result",
          "data": {
            "text/plain": [
              "array([-0.43875851,  0.5626897 , -0.04336068, -0.55388758, -0.45927421,\n",
              "        0.60006367, -0.4892224 , -0.26433365,  0.49142605, -0.18270663,\n",
              "       -0.15873873, -0.15402578, -0.13367837, -0.11314714, -0.13637447,\n",
              "       -0.13637447, -0.10660036, -0.11935248, -0.11314714, -0.09964476,\n",
              "       -0.09598606, -0.10992018, -0.12234347, -0.09964476, -0.09964476,\n",
              "       -0.0751646 , -0.08409599, -0.10660036, -0.08823182, -0.0751646 ,\n",
              "       -0.07028523, -0.0751646 , -0.07028523, -0.09964476, -0.03750293,\n",
              "       -0.05935999, -0.08823182, -0.09218776, -0.03750293, -0.06504853,\n",
              "       -0.09598606, -0.06504853, -0.05935999, -0.07028523, -0.07028523,\n",
              "       -0.08823182, -0.05935999, -0.0751646 , -0.05307449, -0.02650926,\n",
              "       -0.06504853, -0.07028523, -0.05935999, -0.07028523, -0.06504853,\n",
              "       -0.07975227, -0.07028523, -0.0751646 , -0.05935999, -0.06504853,\n",
              "       -0.07975227, -0.07975227, -0.08409599, -0.06504853, -0.07028523,\n",
              "       -0.04594768, -0.0751646 , -0.06504853, -0.06504853, -0.07028523,\n",
              "       -0.05935999, -0.05307449, -0.03750293, -0.04594768, -0.05935999,\n",
              "       -0.05935999, -0.07028523, -0.04594768, -0.05307449, -0.06504853,\n",
              "       -0.04594768, -0.05307449, -0.04594768, -0.04594768, -0.0751646 ,\n",
              "       -0.07028523, -0.07975227, -0.05935999, -0.03750293, -0.05935999,\n",
              "       -0.03750293, -0.08409599, -0.07028523, -0.07028523, -0.04594768,\n",
              "       -0.02650926, -0.0751646 , -0.05307449, -0.05307449, -0.05935999,\n",
              "       -0.03750293, -0.06504853, -0.03750293, -0.06504853, -0.06504853,\n",
              "       -0.0751646 , -0.05307449])"
            ]
          },
          "metadata": {},
          "execution_count": 210
        }
      ]
    },
    {
      "cell_type": "code",
      "source": [
        "Regressor_1.predict([X_test[0,:]])"
      ],
      "metadata": {
        "colab": {
          "base_uri": "https://localhost:8080/"
        },
        "id": "uGggYjp0oBhC",
        "outputId": "d6a3306b-c758-43b0-c364-6b2d347ca626"
      },
      "execution_count": null,
      "outputs": [
        {
          "output_type": "execute_result",
          "data": {
            "text/plain": [
              "array([72.72371345])"
            ]
          },
          "metadata": {},
          "execution_count": 211
        }
      ]
    },
    {
      "cell_type": "code",
      "source": [
        "Regressor_1.predict(X_test)"
      ],
      "metadata": {
        "colab": {
          "base_uri": "https://localhost:8080/"
        },
        "id": "aoLokrPtoRZg",
        "outputId": "63cfd3e2-24ad-457f-ca24-4b6b19282dc0"
      },
      "execution_count": null,
      "outputs": [
        {
          "output_type": "execute_result",
          "data": {
            "text/plain": [
              "array([ 72.72371345,  10.63043895,  47.62853633, ...,  67.15963156,\n",
              "        97.84198768, 693.42015569])"
            ]
          },
          "metadata": {},
          "execution_count": 212
        }
      ]
    },
    {
      "cell_type": "code",
      "source": [
        "y_test"
      ],
      "metadata": {
        "colab": {
          "base_uri": "https://localhost:8080/"
        },
        "id": "rj_0WMLZoiQl",
        "outputId": "4a7b069b-db47-42c0-86c2-7955ba8e965d"
      },
      "execution_count": null,
      "outputs": [
        {
          "output_type": "execute_result",
          "data": {
            "text/plain": [
              "1189     68.0\n",
              "5876     36.0\n",
              "5597     61.0\n",
              "3391     85.0\n",
              "6122     64.0\n",
              "        ...  \n",
              "5830    187.0\n",
              "4887     57.0\n",
              "1861     90.0\n",
              "3014     75.0\n",
              "1670    864.0\n",
              "Name: price, Length: 1424, dtype: float64"
            ]
          },
          "metadata": {},
          "execution_count": 213
        }
      ]
    },
    {
      "cell_type": "code",
      "source": [
        "Regressor_1.score(X_test,y_test)"
      ],
      "metadata": {
        "colab": {
          "base_uri": "https://localhost:8080/"
        },
        "id": "DKKL0fpweCOO",
        "outputId": "0fcbb663-1c34-448b-9641-e7515941c03d"
      },
      "execution_count": null,
      "outputs": [
        {
          "output_type": "execute_result",
          "data": {
            "text/plain": [
              "0.9020313919298323"
            ]
          },
          "metadata": {},
          "execution_count": 214
        }
      ]
    },
    {
      "cell_type": "code",
      "source": [
        "from sklearn.tree import DecisionTreeRegressor\n",
        "Regressor_2=DecisionTreeRegressor(criterion='squared_error')\n",
        "Regressor_2.fit(X_train,y_train)"
      ],
      "metadata": {
        "colab": {
          "base_uri": "https://localhost:8080/"
        },
        "id": "uVJttkqmo3kd",
        "outputId": "addd4902-25fe-4474-a9fc-2b7000badbe5"
      },
      "execution_count": null,
      "outputs": [
        {
          "output_type": "execute_result",
          "data": {
            "text/plain": [
              "DecisionTreeRegressor()"
            ]
          },
          "metadata": {},
          "execution_count": 215
        }
      ]
    },
    {
      "cell_type": "code",
      "source": [
        "Regressor_2.score(X_test,y_test)"
      ],
      "metadata": {
        "colab": {
          "base_uri": "https://localhost:8080/"
        },
        "id": "mCh_KwRBpt7o",
        "outputId": "a1fb2af2-aaeb-417e-df94-185d970f1753"
      },
      "execution_count": null,
      "outputs": [
        {
          "output_type": "execute_result",
          "data": {
            "text/plain": [
              "0.8470886515342337"
            ]
          },
          "metadata": {},
          "execution_count": 216
        }
      ]
    },
    {
      "cell_type": "code",
      "source": [
        "X_test[0,:]"
      ],
      "metadata": {
        "colab": {
          "base_uri": "https://localhost:8080/"
        },
        "id": "WYmYglH-p7_T",
        "outputId": "5d0412c0-4e7b-4d3d-eb7b-2894b10c84b2"
      },
      "execution_count": null,
      "outputs": [
        {
          "output_type": "execute_result",
          "data": {
            "text/plain": [
              "array([-0.43875851,  0.5626897 , -0.04336068, -0.55388758, -0.45927421,\n",
              "        0.60006367, -0.4892224 , -0.26433365,  0.49142605, -0.18270663,\n",
              "       -0.15873873, -0.15402578, -0.13367837, -0.11314714, -0.13637447,\n",
              "       -0.13637447, -0.10660036, -0.11935248, -0.11314714, -0.09964476,\n",
              "       -0.09598606, -0.10992018, -0.12234347, -0.09964476, -0.09964476,\n",
              "       -0.0751646 , -0.08409599, -0.10660036, -0.08823182, -0.0751646 ,\n",
              "       -0.07028523, -0.0751646 , -0.07028523, -0.09964476, -0.03750293,\n",
              "       -0.05935999, -0.08823182, -0.09218776, -0.03750293, -0.06504853,\n",
              "       -0.09598606, -0.06504853, -0.05935999, -0.07028523, -0.07028523,\n",
              "       -0.08823182, -0.05935999, -0.0751646 , -0.05307449, -0.02650926,\n",
              "       -0.06504853, -0.07028523, -0.05935999, -0.07028523, -0.06504853,\n",
              "       -0.07975227, -0.07028523, -0.0751646 , -0.05935999, -0.06504853,\n",
              "       -0.07975227, -0.07975227, -0.08409599, -0.06504853, -0.07028523,\n",
              "       -0.04594768, -0.0751646 , -0.06504853, -0.06504853, -0.07028523,\n",
              "       -0.05935999, -0.05307449, -0.03750293, -0.04594768, -0.05935999,\n",
              "       -0.05935999, -0.07028523, -0.04594768, -0.05307449, -0.06504853,\n",
              "       -0.04594768, -0.05307449, -0.04594768, -0.04594768, -0.0751646 ,\n",
              "       -0.07028523, -0.07975227, -0.05935999, -0.03750293, -0.05935999,\n",
              "       -0.03750293, -0.08409599, -0.07028523, -0.07028523, -0.04594768,\n",
              "       -0.02650926, -0.0751646 , -0.05307449, -0.05307449, -0.05935999,\n",
              "       -0.03750293, -0.06504853, -0.03750293, -0.06504853, -0.06504853,\n",
              "       -0.0751646 , -0.05307449])"
            ]
          },
          "metadata": {},
          "execution_count": 217
        }
      ]
    },
    {
      "cell_type": "code",
      "source": [
        "Regressor_2.predict([X_test[0,:]])"
      ],
      "metadata": {
        "colab": {
          "base_uri": "https://localhost:8080/"
        },
        "id": "9KjHUt3jqagb",
        "outputId": "8c794dc1-089e-499d-961c-85153f206fd2"
      },
      "execution_count": null,
      "outputs": [
        {
          "output_type": "execute_result",
          "data": {
            "text/plain": [
              "array([70.])"
            ]
          },
          "metadata": {},
          "execution_count": 218
        }
      ]
    },
    {
      "cell_type": "code",
      "source": [
        "Regressor_2.predict(X_test)"
      ],
      "metadata": {
        "colab": {
          "base_uri": "https://localhost:8080/"
        },
        "id": "wlqk9BpRqbmC",
        "outputId": "27e1da98-8eb8-48b4-d53f-6be799e74d45"
      },
      "execution_count": null,
      "outputs": [
        {
          "output_type": "execute_result",
          "data": {
            "text/plain": [
              "array([ 70. ,  37.8,  65. , ...,  88. ,  80. , 700. ])"
            ]
          },
          "metadata": {},
          "execution_count": 219
        }
      ]
    },
    {
      "cell_type": "code",
      "source": [
        "y_test"
      ],
      "metadata": {
        "colab": {
          "base_uri": "https://localhost:8080/"
        },
        "id": "PSTjVQi-qkxP",
        "outputId": "9011ce56-4979-4fb9-c8d6-968adc0deb61"
      },
      "execution_count": null,
      "outputs": [
        {
          "output_type": "execute_result",
          "data": {
            "text/plain": [
              "1189     68.0\n",
              "5876     36.0\n",
              "5597     61.0\n",
              "3391     85.0\n",
              "6122     64.0\n",
              "        ...  \n",
              "5830    187.0\n",
              "4887     57.0\n",
              "1861     90.0\n",
              "3014     75.0\n",
              "1670    864.0\n",
              "Name: price, Length: 1424, dtype: float64"
            ]
          },
          "metadata": {},
          "execution_count": 220
        }
      ]
    },
    {
      "cell_type": "code",
      "source": [
        "predicted=Regressor_2.predict(X_test)\n",
        "print(predicted)"
      ],
      "metadata": {
        "colab": {
          "base_uri": "https://localhost:8080/"
        },
        "id": "ff5eTIFAtlMl",
        "outputId": "3990b361-52bd-44d4-86fa-cbbcd84d7ac0"
      },
      "execution_count": null,
      "outputs": [
        {
          "output_type": "stream",
          "name": "stdout",
          "text": [
            "[ 70.   37.8  65.  ...  88.   80.  700. ]\n"
          ]
        }
      ]
    },
    {
      "cell_type": "code",
      "source": [
        "from sklearn.ensemble import RandomForestRegressor\n",
        "Regressor_3=RandomForestRegressor(n_estimators=1000,criterion='squared_error')\n",
        "Regressor_3.fit(X_train,y_train)"
      ],
      "metadata": {
        "colab": {
          "base_uri": "https://localhost:8080/"
        },
        "id": "iSgYBMw7szbV",
        "outputId": "6e95d0ae-fbe8-4e5d-bd4e-bb5590a517bb"
      },
      "execution_count": null,
      "outputs": [
        {
          "output_type": "execute_result",
          "data": {
            "text/plain": [
              "RandomForestRegressor(n_estimators=1000)"
            ]
          },
          "metadata": {},
          "execution_count": 222
        }
      ]
    },
    {
      "cell_type": "code",
      "source": [
        "Regressor_3.score(X_test,y_test)"
      ],
      "metadata": {
        "colab": {
          "base_uri": "https://localhost:8080/"
        },
        "id": "taQ0E7M9s6WY",
        "outputId": "8fdcc3d8-a24a-48d2-a24d-0aad20197378"
      },
      "execution_count": null,
      "outputs": [
        {
          "output_type": "execute_result",
          "data": {
            "text/plain": [
              "0.9417634243619369"
            ]
          },
          "metadata": {},
          "execution_count": 223
        }
      ]
    },
    {
      "cell_type": "code",
      "source": [
        "import math\n",
        "from sklearn.metrics import mean_squared_error\n",
        "mse=mean_squared_error(y_test,predicted)\n",
        "print(mse)"
      ],
      "metadata": {
        "colab": {
          "base_uri": "https://localhost:8080/"
        },
        "id": "kSZbBcNptEvh",
        "outputId": "9431b07d-f1b2-45c0-b06f-6e65f22f8cb2"
      },
      "execution_count": null,
      "outputs": [
        {
          "output_type": "stream",
          "name": "stdout",
          "text": [
            "1941.492186604635\n"
          ]
        }
      ]
    },
    {
      "cell_type": "code",
      "source": [
        "rmse=np.sqrt(mse)\n",
        "print(rmse)"
      ],
      "metadata": {
        "colab": {
          "base_uri": "https://localhost:8080/"
        },
        "id": "7K5hG7SNujm9",
        "outputId": "3c829cca-fe4c-4747-f912-f8d780ac17d2"
      },
      "execution_count": null,
      "outputs": [
        {
          "output_type": "stream",
          "name": "stdout",
          "text": [
            "44.06236701091573\n"
          ]
        }
      ]
    }
  ]
}